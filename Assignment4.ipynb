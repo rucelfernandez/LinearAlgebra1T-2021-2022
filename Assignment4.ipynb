{
  "nbformat": 4,
  "nbformat_minor": 0,
  "metadata": {
    "colab": {
      "name": "Assignment4.ipynb",
      "provenance": [],
      "collapsed_sections": [],
      "toc_visible": true,
      "authorship_tag": "ABX9TyNLgU2FLe/6/HLlDBIYm7EX",
      "include_colab_link": true
    },
    "kernelspec": {
      "name": "python3",
      "display_name": "Python 3"
    },
    "language_info": {
      "name": "python"
    }
  },
  "cells": [
    {
      "cell_type": "markdown",
      "metadata": {
        "id": "view-in-github",
        "colab_type": "text"
      },
      "source": [
        "<a href=\"https://colab.research.google.com/github/rucelfernandez/LinearAlgebra1T-2021-2022/blob/main/Assignment4.ipynb\" target=\"_parent\"><img src=\"https://colab.research.google.com/assets/colab-badge.svg\" alt=\"Open In Colab\"/></a>"
      ]
    },
    {
      "cell_type": "markdown",
      "metadata": {
        "id": "xSRPMobh8Giq"
      },
      "source": [
        "#**Linear Algebra for ECE**\n"
      ]
    },
    {
      "cell_type": "markdown",
      "metadata": {
        "id": "k0rDcBYv8FB9"
      },
      "source": [
        "##**Laboratory 4: Matrices**\n",
        "\n",
        "Now that we havee a fundamental knowledge about Python, we'll try to look into greater dimensions."
      ]
    },
    {
      "cell_type": "markdown",
      "metadata": {
        "id": "0hkazynuNntq"
      },
      "source": [
        "##**Objectives**\n",
        "\n",
        "At the end of this activity you will be able to:\n",
        "\n",
        "1. Be familiar with matrices and their relation to linear equations.\n",
        "2. Perform basic matrix operations.\n",
        "3. Program and translate matrix equations and operations using Python."
      ]
    },
    {
      "cell_type": "markdown",
      "metadata": {
        "id": "Wkhnwv5fN4uP"
      },
      "source": [
        "###**Discussion**"
      ]
    },
    {
      "cell_type": "code",
      "metadata": {
        "id": "SIl7xulJ8n9T"
      },
      "source": [
        "import numpy as np\n",
        "import matplotlib.pyplot as plt\n",
        "import scipy.linalg as la\n",
        "%matplotlib inline"
      ],
      "execution_count": 3,
      "outputs": []
    },
    {
      "cell_type": "markdown",
      "metadata": {
        "id": "0nxNR78A9axW"
      },
      "source": [
        "###**Matrices**\n",
        "\n",
        "The notation and use of matrices is probably one of the fundamentals of modern computing. Matrices are also handy representations of complex equations or multiple inter-related equations from 2-dimensional equations to even hundreds and thousands of them.\n",
        "\n",
        "Let's say for example you have $A$ and $B$ as system of equation."
      ]
    },
    {
      "cell_type": "markdown",
      "metadata": {
        "id": "rPttaVRp9SFh"
      },
      "source": [
        "$$\n",
        "A = \\left\\{\n",
        "    \\begin{array}\\\n",
        "        x + y \\\\ \n",
        "        4x - 10y\n",
        "    \\end{array}\n",
        "\\right. \\\\\n",
        "B = \\left\\{\n",
        "    \\begin{array}\\\n",
        "        x+y+z \\\\\n",
        "        3x -2y -z \\\\\n",
        "        -x + 4y +2z\n",
        "    \\end{array}\n",
        "\\right. $$"
      ]
    },
    {
      "cell_type": "markdown",
      "metadata": {
        "id": "taTR5HSS-Elo"
      },
      "source": [
        "We could see that $A$ is a system of 2 equations with 2 parameters. While $B$ is a system of 3 equations with 3 parameters. We can represent them as matrices as:"
      ]
    },
    {
      "cell_type": "markdown",
      "metadata": {
        "id": "XoCRu3qO-Pdb"
      },
      "source": [
        "$$\n",
        "A=\\begin{bmatrix} 1 & 1 \\\\ 4 & {-10}\\end{bmatrix} \\\\\n",
        "B=\\begin{bmatrix} 1 & 1 & 1 \\\\ 3 & -2 & -1 \\\\ -1 & 4 & 2\\end{bmatrix}\n",
        "$$"
      ]
    },
    {
      "cell_type": "markdown",
      "metadata": {
        "id": "12bpbjSAOmmd"
      },
      "source": [
        "So assuming that you already discussed the fundamental representation of matrices, their types, and operations. We'll proceed in doing them in here in Python."
      ]
    },
    {
      "cell_type": "markdown",
      "metadata": {
        "id": "EERxOS1c-luj"
      },
      "source": [
        "###**Declaring Matrices**\n",
        "\n",
        "Just like our previous laboratory activity, we'll represent system of linear equations as a matrix. The entities or numbers in matrices are called the elements of a matrix. These elements are arranged and ordered in rows and columns which form the list/array-like structure of matrices. And just like arrays, these elements are indexed according to their position with respect to their rows and columns. This can be reprsented just like the equation below. Whereas $A$ is a matrix consisting of elements denoted by $a_{i,j}$. Denoted by $i$ is the number of rows in the matrix while $j$ stands for the number of columns.\n",
        "Do note that the $size$ of a matrix is $i\\times j$."
      ]
    },
    {
      "cell_type": "markdown",
      "metadata": {
        "id": "XI9nmpbI92au"
      },
      "source": [
        "$$A=\\begin{bmatrix}\n",
        "a_{(0,0)}&a_{(0,1)}&\\dots&a_{(0,j-1)}\\\\\n",
        "a_{(1,0)}&a_{(1,1)}&\\dots&a_{(1,j-1)}\\\\\n",
        "\\vdots&\\vdots&\\ddots&\\vdots&\\\\\n",
        "a_{(i-1,0)}&a_{(i-1,1)}&\\dots&a_{(i-1,j-1)}\n",
        "\\end{bmatrix}\n",
        "$$"
      ]
    },
    {
      "cell_type": "markdown",
      "metadata": {
        "id": "j6QMaNgP_KmV"
      },
      "source": [
        "We already gone over some of the types of matrices as vectors but we'll further discuss them in this laboratory activity. Since you already know how to describe vectors using shape, dimensions and size attributes, we'll use them to analyze these matrices."
      ]
    },
    {
      "cell_type": "code",
      "metadata": {
        "id": "fYiBDYC0__R4"
      },
      "source": [
        "## Since we'll keep on describing matrices. Let's make a function.\n",
        "def describe_mat(matrix):\n",
        "    print(f'Matrix:\\n{matrix}\\n\\nShape:\\t{matrix.shape}\\nRank:\\t{matrix.ndim}\\n')"
      ],
      "execution_count": 2,
      "outputs": []
    },
    {
      "cell_type": "code",
      "metadata": {
        "colab": {
          "base_uri": "https://localhost:8080/"
        },
        "id": "wSEIk4VAAf8S",
        "outputId": "262cf3a1-d6e3-4f21-c4bf-151a5d7a114f"
      },
      "source": [
        "## Declaring a 2 x 2 matrix\n",
        "A = np.array([\n",
        "    [1, 2],\n",
        "    [3, 1]\n",
        "])\n",
        "describe_mat(A)"
      ],
      "execution_count": 3,
      "outputs": [
        {
          "output_type": "stream",
          "name": "stdout",
          "text": [
            "Matrix:\n",
            "[[1 2]\n",
            " [3 1]]\n",
            "\n",
            "Shape:\t(2, 2)\n",
            "Rank:\t2\n",
            "\n"
          ]
        }
      ]
    },
    {
      "cell_type": "code",
      "metadata": {
        "colab": {
          "base_uri": "https://localhost:8080/"
        },
        "id": "G_bnyD08AIfu",
        "outputId": "8b0be8ca-5456-4087-fe86-e4fed5c1165f"
      },
      "source": [
        "G = np.array([\n",
        "    [1,1],\n",
        "    [2,2]\n",
        "])\n",
        "describe_mat(G)"
      ],
      "execution_count": 4,
      "outputs": [
        {
          "output_type": "stream",
          "name": "stdout",
          "text": [
            "Matrix:\n",
            "[[1 1]\n",
            " [2 2]]\n",
            "\n",
            "Shape:\t(2, 2)\n",
            "Rank:\t2\n",
            "\n"
          ]
        }
      ]
    },
    {
      "cell_type": "code",
      "metadata": {
        "colab": {
          "base_uri": "https://localhost:8080/"
        },
        "id": "GP-EWF9ZC9VE",
        "outputId": "26f777e2-baee-420a-aa21-95613aca2a9b"
      },
      "source": [
        "## Declaring a 3 x 2 matrix\n",
        "B = np.array([\n",
        "    [8, 2],\n",
        "    [5, 4],\n",
        "    [1, 1]\n",
        "])\n",
        "describe_mat(B)"
      ],
      "execution_count": 5,
      "outputs": [
        {
          "output_type": "stream",
          "name": "stdout",
          "text": [
            "Matrix:\n",
            "[[8 2]\n",
            " [5 4]\n",
            " [1 1]]\n",
            "\n",
            "Shape:\t(3, 2)\n",
            "Rank:\t2\n",
            "\n"
          ]
        }
      ]
    },
    {
      "cell_type": "code",
      "metadata": {
        "colab": {
          "base_uri": "https://localhost:8080/"
        },
        "id": "U363xmSaDiG-",
        "outputId": "a279a284-989b-482f-89ca-0bc2ae42792e"
      },
      "source": [
        "H = np.array([1,2,3,4,5])\n",
        "describe_mat(H)\n"
      ],
      "execution_count": 6,
      "outputs": [
        {
          "output_type": "stream",
          "name": "stdout",
          "text": [
            "Matrix:\n",
            "[1 2 3 4 5]\n",
            "\n",
            "Shape:\t(5,)\n",
            "Rank:\t1\n",
            "\n"
          ]
        }
      ]
    },
    {
      "cell_type": "markdown",
      "metadata": {
        "id": "JaGT0iwaD8v3"
      },
      "source": [
        "###**Categorizing Matrices**"
      ]
    },
    {
      "cell_type": "markdown",
      "metadata": {
        "id": "CRDiLPuGpHgE"
      },
      "source": [
        "There are several ways of classifying matrices. Once could be according to their shape and another is according to their element values. We'll try to go through them.\n",
        "\n",
        "####**According to Shape**"
      ]
    },
    {
      "cell_type": "markdown",
      "metadata": {
        "id": "r_astK7oD_q0"
      },
      "source": [
        "#####**Row and Column Matrices**\n",
        "\n",
        "Row and Column matrices are common in vector and matrix computations. They can also represent row and column spaces of a bigger vector space. Row and column matrices are represented by a single column or single row. So with that being, the shape of row matrices would be $1 \\times j$ and column matrices would be $i \\times 1$."
      ]
    },
    {
      "cell_type": "code",
      "metadata": {
        "colab": {
          "base_uri": "https://localhost:8080/"
        },
        "id": "vo77x_ZWEC7a",
        "outputId": "e4b7126f-70a9-42f0-e77e-263b8f3c280f"
      },
      "source": [
        "## Declaring a Rox matrix\n",
        "\n",
        "row_mat_1D = np.array([\n",
        "    1, 3, 2\n",
        "]) ## this is a 1-D Matrix with a shape of (3,), it's not really considered as a row matrix.\n",
        "row_mat_2D = np.array([\n",
        "    [1,2,3]                \n",
        "]) ## this is a 2-D Matrix with a shape of (1,3)\n",
        "describe_mat(row_mat_1D)\n",
        "describe_mat(row_mat_2D)"
      ],
      "execution_count": 7,
      "outputs": [
        {
          "output_type": "stream",
          "name": "stdout",
          "text": [
            "Matrix:\n",
            "[1 3 2]\n",
            "\n",
            "Shape:\t(3,)\n",
            "Rank:\t1\n",
            "\n",
            "Matrix:\n",
            "[[1 2 3]]\n",
            "\n",
            "Shape:\t(1, 3)\n",
            "Rank:\t2\n",
            "\n"
          ]
        }
      ]
    },
    {
      "cell_type": "code",
      "metadata": {
        "id": "VGi-zv_OFa3V",
        "colab": {
          "base_uri": "https://localhost:8080/"
        },
        "outputId": "594a659e-6d48-4397-a808-e00232c6eeed"
      },
      "source": [
        "## Declaring a Column Matrix\n",
        "\n",
        "col_mat = np.array([\n",
        "    [1],\n",
        "    [2],\n",
        "    [5]\n",
        "]) ## this is a 2-D Matrix with a shape of (3,1)\n",
        "describe_mat(col_mat)"
      ],
      "execution_count": 8,
      "outputs": [
        {
          "output_type": "stream",
          "name": "stdout",
          "text": [
            "Matrix:\n",
            "[[1]\n",
            " [2]\n",
            " [5]]\n",
            "\n",
            "Shape:\t(3, 1)\n",
            "Rank:\t2\n",
            "\n"
          ]
        }
      ]
    },
    {
      "cell_type": "markdown",
      "metadata": {
        "id": "2PDxHXFuFk_l"
      },
      "source": [
        "#####**Square Matrices**\n",
        "\n",
        "Square matrices are matrices that have the same row and column sizes. We could say a matrix is square if $i = j$. We can tweak our matrix descriptor function to determine square matrices."
      ]
    },
    {
      "cell_type": "code",
      "metadata": {
        "id": "bS5rAXFqFjRN"
      },
      "source": [
        "def describe_mat(matrix):\n",
        "    is_square = True if matrix.shape[0] == matrix.shape[1] else False \n",
        "    print(f'Matrix:\\n{matrix}\\n\\nShape:\\t{matrix.shape}\\nRank:\\t{matrix.ndim}\\nIs Square: {is_square}\\n')"
      ],
      "execution_count": 9,
      "outputs": []
    },
    {
      "cell_type": "code",
      "metadata": {
        "id": "FrderwBmGLO0",
        "colab": {
          "base_uri": "https://localhost:8080/"
        },
        "outputId": "d23ccbd4-b34c-42f1-c77e-cbbeaec4f4d0"
      },
      "source": [
        "square_mat = np.array([\n",
        "    [1,2,5],\n",
        "    [3,3,8],\n",
        "    [6,1,2]\n",
        "])\n",
        "\n",
        "non_square_mat = np.array([\n",
        "    [1,2,5],\n",
        "    [3,3,8]\n",
        "])\n",
        "describe_mat(square_mat)\n",
        "describe_mat(non_square_mat)"
      ],
      "execution_count": 10,
      "outputs": [
        {
          "output_type": "stream",
          "name": "stdout",
          "text": [
            "Matrix:\n",
            "[[1 2 5]\n",
            " [3 3 8]\n",
            " [6 1 2]]\n",
            "\n",
            "Shape:\t(3, 3)\n",
            "Rank:\t2\n",
            "Is Square: True\n",
            "\n",
            "Matrix:\n",
            "[[1 2 5]\n",
            " [3 3 8]]\n",
            "\n",
            "Shape:\t(2, 3)\n",
            "Rank:\t2\n",
            "Is Square: False\n",
            "\n"
          ]
        }
      ]
    },
    {
      "cell_type": "markdown",
      "metadata": {
        "id": "MgXkXAxgI3RX"
      },
      "source": [
        "####**According to Element Values**\n"
      ]
    },
    {
      "cell_type": "markdown",
      "metadata": {
        "id": "6f7xjviIQUaj"
      },
      "source": [
        "#####**Null Matrix**\n",
        "\n",
        "A Null Matrix is a matrix that has no elements. It is always a subspace of any vector or matrix."
      ]
    },
    {
      "cell_type": "code",
      "metadata": {
        "id": "iPkF2XDyJFpC"
      },
      "source": [
        "def describe_mat(matrix):\n",
        "    if matrix.size > 0:\n",
        "        is_square = True if matrix.shape[0] == matrix.shape[1] else False \n",
        "        print(f'Matrix:\\n{matrix}\\n\\nShape:\\t{matrix.shape}\\nRank:\\t{matrix.ndim}\\nIs Square: {is_square}\\n')\n",
        "    else:\n",
        "        print('Matrix is Null')"
      ],
      "execution_count": 11,
      "outputs": []
    },
    {
      "cell_type": "code",
      "metadata": {
        "id": "3DySORD6I9JY",
        "colab": {
          "base_uri": "https://localhost:8080/"
        },
        "outputId": "630f466d-1761-4abc-898e-726488b1a5fa"
      },
      "source": [
        "null_mat = np.array([])\n",
        "describe_mat(null_mat)"
      ],
      "execution_count": 12,
      "outputs": [
        {
          "output_type": "stream",
          "name": "stdout",
          "text": [
            "Matrix is Null\n"
          ]
        }
      ]
    },
    {
      "cell_type": "markdown",
      "metadata": {
        "id": "s2TPP7GAJhT8"
      },
      "source": [
        "#####**Zero Matrix**\n",
        "\n",
        "A zero matrix can be any rectangular matrix but with all elemments having a value of 0."
      ]
    },
    {
      "cell_type": "code",
      "metadata": {
        "colab": {
          "base_uri": "https://localhost:8080/"
        },
        "id": "WE9dV-2VJp-V",
        "outputId": "da39cc25-6979-4329-fedd-ca8acedd0c1e"
      },
      "source": [
        "zero_mat_row = np.zeros((1,2))\n",
        "zero_mat_sqr = np.zeros((2,2))\n",
        "zero_mat_rct = np.zeros((3,2))\n",
        "\n",
        "print(f'Zero Row Matrix: \\n{zero_mat_row}')\n",
        "print(f'Zero Square Matrix: \\n{zero_mat_sqr}')\n",
        "print(f'Zero Rectangular Matrix: \\n{zero_mat_rct}')"
      ],
      "execution_count": 13,
      "outputs": [
        {
          "output_type": "stream",
          "name": "stdout",
          "text": [
            "Zero Row Matrix: \n",
            "[[0. 0.]]\n",
            "Zero Square Matrix: \n",
            "[[0. 0.]\n",
            " [0. 0.]]\n",
            "Zero Rectangular Matrix: \n",
            "[[0. 0.]\n",
            " [0. 0.]\n",
            " [0. 0.]]\n"
          ]
        }
      ]
    },
    {
      "cell_type": "markdown",
      "metadata": {
        "id": "BZiNORYqQooD"
      },
      "source": [
        "#####**Ones Matrix**\n",
        "\n",
        "A ones matrix, just like the zero matrix, can be any rectangular matrix but all of its elements are 1s instead of 0s."
      ]
    },
    {
      "cell_type": "code",
      "metadata": {
        "colab": {
          "base_uri": "https://localhost:8080/"
        },
        "id": "vyxGil51KhDA",
        "outputId": "611617dc-55dc-4d36-9061-725e4d427762"
      },
      "source": [
        "ones_mat_row = np.ones((1,2))\n",
        "ones_mat_sqr = np.ones((2,2))\n",
        "ones_mat_rct = np.ones((3,2))\n",
        "\n",
        "print(f'Ones Row Matrix: \\n{ones_mat_row}')\n",
        "print(f'Ones Square Matrix: \\n{ones_mat_sqr}')\n",
        "print(f'Ones Rectangular Matrix: \\n{ones_mat_rct}')"
      ],
      "execution_count": 14,
      "outputs": [
        {
          "output_type": "stream",
          "name": "stdout",
          "text": [
            "Ones Row Matrix: \n",
            "[[1. 1.]]\n",
            "Ones Square Matrix: \n",
            "[[1. 1.]\n",
            " [1. 1.]]\n",
            "Ones Rectangular Matrix: \n",
            "[[1. 1.]\n",
            " [1. 1.]\n",
            " [1. 1.]]\n"
          ]
        }
      ]
    },
    {
      "cell_type": "markdown",
      "metadata": {
        "id": "Le1o3WUOK2wr"
      },
      "source": [
        "#####**Diagonal Matrix**\n",
        "A diagonal matrix is a square matrix that has values only at the diagonal of the matrix."
      ]
    },
    {
      "cell_type": "code",
      "metadata": {
        "colab": {
          "base_uri": "https://localhost:8080/"
        },
        "id": "LHoMJEUkRELN",
        "outputId": "d770900b-95f1-4817-a934-0a3050580fb3"
      },
      "source": [
        "np.array([\n",
        "    [2,0,0],\n",
        "    [0,3,0],\n",
        "    [0,0,5]\n",
        "])\n",
        "# a[1,1], a[2,2], a[3,3], ... a[n-1,n-1]"
      ],
      "execution_count": 15,
      "outputs": [
        {
          "output_type": "execute_result",
          "data": {
            "text/plain": [
              "array([[2, 0, 0],\n",
              "       [0, 3, 0],\n",
              "       [0, 0, 5]])"
            ]
          },
          "metadata": {},
          "execution_count": 15
        }
      ]
    },
    {
      "cell_type": "markdown",
      "metadata": {
        "id": "t6q2_vmTLWeD"
      },
      "source": [
        "#####**Identity Matrix**\n",
        "\n",
        "An identity matrix is a special diagonal matrix in which the values at the diagonal are ones."
      ]
    },
    {
      "cell_type": "code",
      "metadata": {
        "colab": {
          "base_uri": "https://localhost:8080/"
        },
        "id": "8Y_3mah-LZY2",
        "outputId": "a64b4dd3-fb7d-4079-c41e-f2383b275cf7"
      },
      "source": [
        "np.eye(5)\n"
      ],
      "execution_count": 16,
      "outputs": [
        {
          "output_type": "execute_result",
          "data": {
            "text/plain": [
              "array([[1., 0., 0., 0., 0.],\n",
              "       [0., 1., 0., 0., 0.],\n",
              "       [0., 0., 1., 0., 0.],\n",
              "       [0., 0., 0., 1., 0.],\n",
              "       [0., 0., 0., 0., 1.]])"
            ]
          },
          "metadata": {},
          "execution_count": 16
        }
      ]
    },
    {
      "cell_type": "code",
      "metadata": {
        "id": "-MtH4r2WLg40",
        "colab": {
          "base_uri": "https://localhost:8080/"
        },
        "outputId": "077c64b6-f686-45cb-c59e-f5238e1526d1"
      },
      "source": [
        "np.identity(5)"
      ],
      "execution_count": 17,
      "outputs": [
        {
          "output_type": "execute_result",
          "data": {
            "text/plain": [
              "array([[1., 0., 0., 0., 0.],\n",
              "       [0., 1., 0., 0., 0.],\n",
              "       [0., 0., 1., 0., 0.],\n",
              "       [0., 0., 0., 1., 0.],\n",
              "       [0., 0., 0., 0., 1.]])"
            ]
          },
          "metadata": {},
          "execution_count": 17
        }
      ]
    },
    {
      "cell_type": "markdown",
      "metadata": {
        "id": "YA_BQ3eNLpAP"
      },
      "source": [
        "#####**Upper Triangular Matrix**\n",
        "\n",
        "An upper triangular matrix is a matrix that has no values below the diagonal."
      ]
    },
    {
      "cell_type": "code",
      "metadata": {
        "colab": {
          "base_uri": "https://localhost:8080/"
        },
        "id": "F5cG3FYgLsCF",
        "outputId": "a614fa3c-37ba-4525-cfd0-6aa4b32c161f"
      },
      "source": [
        "np.array([\n",
        "    [1,2,3],\n",
        "    [0,3,1],\n",
        "    [0,0,5]\n",
        "])"
      ],
      "execution_count": 18,
      "outputs": [
        {
          "output_type": "execute_result",
          "data": {
            "text/plain": [
              "array([[1, 2, 3],\n",
              "       [0, 3, 1],\n",
              "       [0, 0, 5]])"
            ]
          },
          "metadata": {},
          "execution_count": 18
        }
      ]
    },
    {
      "cell_type": "markdown",
      "metadata": {
        "id": "Naoj-Z5qR1OH"
      },
      "source": [
        "#####**Lower Triangular Matrix**\n",
        "\n",
        "A lower triangular matrix is a matrix that has no values above the diagonal."
      ]
    },
    {
      "cell_type": "code",
      "metadata": {
        "colab": {
          "base_uri": "https://localhost:8080/"
        },
        "id": "yhJILgaNSB3a",
        "outputId": "30bbcad0-6496-4627-fa46-19ca5b213c53"
      },
      "source": [
        "np.array([\n",
        "    [1,0,0],\n",
        "    [5,3,0],\n",
        "    [7,8,5]\n",
        "])"
      ],
      "execution_count": 19,
      "outputs": [
        {
          "output_type": "execute_result",
          "data": {
            "text/plain": [
              "array([[1, 0, 0],\n",
              "       [5, 3, 0],\n",
              "       [7, 8, 5]])"
            ]
          },
          "metadata": {},
          "execution_count": 19
        }
      ]
    },
    {
      "cell_type": "markdown",
      "metadata": {
        "id": "oB8MphRQL43l"
      },
      "source": [
        "###**Practice**\n",
        "\n",
        "1. Given the linear combination below, try to create a corresponding matrix representing it."
      ]
    },
    {
      "cell_type": "markdown",
      "metadata": {
        "id": "jbZPLngpyCTT"
      },
      "source": [
        "$$θ = 5x + 3y - z$$"
      ]
    },
    {
      "cell_type": "markdown",
      "metadata": {
        "id": "M7GZIsErzGPR"
      },
      "source": [
        "$$\n",
        "θ=\\begin{bmatrix} 5 & 3 & -1\\end{bmatrix}\n",
        "$$"
      ]
    },
    {
      "cell_type": "markdown",
      "metadata": {
        "id": "5ujGUP_Ueinf"
      },
      "source": [
        "2. Given the system of linear combinations below, try to encode it as a matrix. Also describe the matrix.\n",
        "\n",
        "$$ A = \\left\\{\\begin{array} 5x_1 + 2x_2 +x_3\\\\ 4x_2 - x_3\\\\ 10x_3 \\end{array}\\right. $$\n",
        "\\\n",
        "$$\n",
        "A=\\begin{bmatrix} 1 & 2 & 1 \\\\ 0 & 4 & -1 \\\\ 0 & 0 & 10\\end{bmatrix}\n",
        "$$\n",
        "\\\n",
        "The matrix is upper triangle matrix because of the 3 zeros on the lower left part of the matrix."
      ]
    },
    {
      "cell_type": "markdown",
      "metadata": {
        "id": "JHlTdVzuec3p"
      },
      "source": [
        "3. Given the matrix below, express it as a linear combination in a markdown."
      ]
    },
    {
      "cell_type": "code",
      "metadata": {
        "id": "dFxEHHZcMPLc",
        "colab": {
          "base_uri": "https://localhost:8080/"
        },
        "outputId": "9721d042-c3ad-48e0-8460-d90d9b1f52de"
      },
      "source": [
        "G = np.array([\n",
        "    [1,7,8],\n",
        "    [2,2,2],\n",
        "    [4,6,7]\n",
        "])\n",
        "describe_mat(G)"
      ],
      "execution_count": 23,
      "outputs": [
        {
          "output_type": "stream",
          "name": "stdout",
          "text": [
            "Matrix:\n",
            "[[1 7 8]\n",
            " [2 2 2]\n",
            " [4 6 7]]\n",
            "\n",
            "Shape:\t(3, 3)\n",
            "Rank:\t2\n",
            "Is Square: True\n",
            "\n"
          ]
        }
      ]
    },
    {
      "cell_type": "markdown",
      "metadata": {
        "id": "4ncil1sSfbys"
      },
      "source": [
        "$$ A = \\left\\{\\begin{array} 5x_1 + 7x_2 +8x_3\\\\ 2x_1 + 2x_2 + 2x_3\\\\ 4x_1 + 6x_2 + 7x_3 \\end{array}\\right. $$\n",
        "\\"
      ]
    },
    {
      "cell_type": "markdown",
      "metadata": {
        "id": "Tymd95j8gBdz"
      },
      "source": [
        "4. Given the matrix below, display the output as a LaTeX makdown also express it as a system of linear combinations."
      ]
    },
    {
      "cell_type": "code",
      "metadata": {
        "colab": {
          "base_uri": "https://localhost:8080/"
        },
        "id": "QuoEeNwGgFfT",
        "outputId": "98895022-ac87-43d8-9d0f-0859c4b10b55"
      },
      "source": [
        "H = np.tril(G)\n",
        "H"
      ],
      "execution_count": 24,
      "outputs": [
        {
          "output_type": "execute_result",
          "data": {
            "text/plain": [
              "array([[1, 0, 0],\n",
              "       [2, 2, 0],\n",
              "       [4, 6, 7]])"
            ]
          },
          "metadata": {},
          "execution_count": 24
        }
      ]
    },
    {
      "cell_type": "markdown",
      "metadata": {
        "id": "35yXOlGYOJcW"
      },
      "source": [
        "$$\n",
        "G = \\left\\{\n",
        "    \\begin{array}\\\n",
        "        x+7y+8z \\\\\n",
        "        2x +2y -2z \\\\\n",
        "        4x + 6y +7z\n",
        "    \\end{array}\n",
        "\\right. $$\n",
        "\\\n",
        "$$\n",
        "G=\\begin{bmatrix} 1 & 7 & 8 \\\\ 2 & 2 & -2 \\\\ 4 & 6 & 7\\end{bmatrix}\n",
        "$$"
      ]
    },
    {
      "cell_type": "markdown",
      "metadata": {
        "id": "y7oD-MmEPhj8"
      },
      "source": [
        "5. Given the matrix below, display the output as a LaTex "
      ]
    },
    {
      "cell_type": "code",
      "metadata": {
        "colab": {
          "base_uri": "https://localhost:8080/"
        },
        "id": "OSYEV1jVPHZL",
        "outputId": "48e232dc-2016-454b-d6da-74a08dbf062c"
      },
      "source": [
        "H = np.triu(G)\n",
        "H"
      ],
      "execution_count": null,
      "outputs": [
        {
          "output_type": "execute_result",
          "data": {
            "text/plain": [
              "array([[1, 1],\n",
              "       [0, 2]])"
            ]
          },
          "metadata": {},
          "execution_count": 47
        }
      ]
    },
    {
      "cell_type": "markdown",
      "metadata": {
        "id": "NBMjwY_PP-p4"
      },
      "source": [
        "Matrix"
      ]
    },
    {
      "cell_type": "markdown",
      "metadata": {
        "id": "DjgKuSWyP_qR"
      },
      "source": [
        "Linear"
      ]
    },
    {
      "cell_type": "markdown",
      "metadata": {
        "id": "SD54JuYOQCBC"
      },
      "source": [
        "###**Matrix Algebra**\n",
        "\n",
        "####**Addition**"
      ]
    },
    {
      "cell_type": "code",
      "metadata": {
        "id": "WyowDZEsMNOm",
        "colab": {
          "base_uri": "https://localhost:8080/"
        },
        "outputId": "d13e978f-6d79-4fba-ee76-3a140dd9b37a"
      },
      "source": [
        "A = np.array([\n",
        "    [1,2],\n",
        "    [2,3],\n",
        "    [4,1]\n",
        "])\n",
        "B = np.array([\n",
        "    [2,2],\n",
        "    [0,0],\n",
        "    [1,1]\n",
        "])\n",
        "A+B"
      ],
      "execution_count": 25,
      "outputs": [
        {
          "output_type": "execute_result",
          "data": {
            "text/plain": [
              "array([[3, 4],\n",
              "       [2, 3],\n",
              "       [5, 2]])"
            ]
          },
          "metadata": {},
          "execution_count": 25
        }
      ]
    },
    {
      "cell_type": "code",
      "metadata": {
        "colab": {
          "base_uri": "https://localhost:8080/"
        },
        "id": "8xIuWi93hIRd",
        "outputId": "57b5b16a-b35d-4bf2-f7ef-5733f0902d07"
      },
      "source": [
        "2+A ##Broadcasting\n",
        "# 2*np.ones(A.shape)+A"
      ],
      "execution_count": 26,
      "outputs": [
        {
          "output_type": "execute_result",
          "data": {
            "text/plain": [
              "array([[3, 4],\n",
              "       [4, 5],\n",
              "       [6, 3]])"
            ]
          },
          "metadata": {},
          "execution_count": 26
        }
      ]
    },
    {
      "cell_type": "markdown",
      "metadata": {
        "id": "cIdxILHhhMWy"
      },
      "source": [
        "####**Subtraction**"
      ]
    },
    {
      "cell_type": "code",
      "metadata": {
        "colab": {
          "base_uri": "https://localhost:8080/"
        },
        "id": "Oymr-cSZhUbc",
        "outputId": "f4dc9056-ca32-47fe-db51-89febd4bc057"
      },
      "source": [
        "A-B"
      ],
      "execution_count": 27,
      "outputs": [
        {
          "output_type": "execute_result",
          "data": {
            "text/plain": [
              "array([[-1,  0],\n",
              "       [ 2,  3],\n",
              "       [ 3,  0]])"
            ]
          },
          "metadata": {},
          "execution_count": 27
        }
      ]
    },
    {
      "cell_type": "code",
      "metadata": {
        "colab": {
          "base_uri": "https://localhost:8080/"
        },
        "id": "tbQ6ldQRhYOR",
        "outputId": "8e3841e7-5a99-4084-8212-a90da82ccfdf"
      },
      "source": [
        "3-B == 3*np.ones(B.shape)-B"
      ],
      "execution_count": 28,
      "outputs": [
        {
          "output_type": "execute_result",
          "data": {
            "text/plain": [
              "array([[ True,  True],\n",
              "       [ True,  True],\n",
              "       [ True,  True]])"
            ]
          },
          "metadata": {},
          "execution_count": 28
        }
      ]
    },
    {
      "cell_type": "markdown",
      "metadata": {
        "id": "YQBakucyRF0d"
      },
      "source": [
        "####**Element-wise Multiplication**"
      ]
    },
    {
      "cell_type": "code",
      "metadata": {
        "colab": {
          "base_uri": "https://localhost:8080/"
        },
        "id": "B-LdeddLMD0h",
        "outputId": "852c3dd3-2ab0-40e3-dd4c-0795190f8f51"
      },
      "source": [
        "A*B\n",
        "np.multiply(A,B)"
      ],
      "execution_count": 29,
      "outputs": [
        {
          "output_type": "execute_result",
          "data": {
            "text/plain": [
              "array([[2, 4],\n",
              "       [0, 0],\n",
              "       [4, 1]])"
            ]
          },
          "metadata": {},
          "execution_count": 29
        }
      ]
    },
    {
      "cell_type": "code",
      "metadata": {
        "id": "8-gMMf0sRFJr",
        "colab": {
          "base_uri": "https://localhost:8080/"
        },
        "outputId": "c8bbd081-b878-482f-da09-9e57c3a24d0d"
      },
      "source": [
        "2*A"
      ],
      "execution_count": 30,
      "outputs": [
        {
          "output_type": "execute_result",
          "data": {
            "text/plain": [
              "array([[2, 4],\n",
              "       [4, 6],\n",
              "       [8, 2]])"
            ]
          },
          "metadata": {},
          "execution_count": 30
        }
      ]
    },
    {
      "cell_type": "code",
      "metadata": {
        "id": "lwiqwEQFSJYd",
        "colab": {
          "base_uri": "https://localhost:8080/"
        },
        "outputId": "7140d457-87ee-4d11-b39a-51e982db4ca1"
      },
      "source": [
        "A/B"
      ],
      "execution_count": 35,
      "outputs": [
        {
          "output_type": "stream",
          "name": "stderr",
          "text": [
            "/usr/local/lib/python3.7/dist-packages/ipykernel_launcher.py:1: RuntimeWarning: divide by zero encountered in true_divide\n",
            "  \"\"\"Entry point for launching an IPython kernel.\n"
          ]
        },
        {
          "output_type": "execute_result",
          "data": {
            "text/plain": [
              "array([[0.5, 1. ],\n",
              "       [inf, inf],\n",
              "       [4. , 1. ]])"
            ]
          },
          "metadata": {},
          "execution_count": 35
        }
      ]
    },
    {
      "cell_type": "code",
      "metadata": {
        "colab": {
          "base_uri": "https://localhost:8080/"
        },
        "id": "hO8a5Z3PR5oZ",
        "outputId": "b9697b5b-9a45-4ff2-ac03-e693eee939b6"
      },
      "source": [
        "alpha=10**-10\n",
        "A/(alpha+B)"
      ],
      "execution_count": 36,
      "outputs": [
        {
          "output_type": "execute_result",
          "data": {
            "text/plain": [
              "array([[5.e-01, 1.e+00],\n",
              "       [2.e+10, 3.e+10],\n",
              "       [4.e+00, 1.e+00]])"
            ]
          },
          "metadata": {},
          "execution_count": 36
        }
      ]
    },
    {
      "cell_type": "code",
      "metadata": {
        "id": "82b3iavJTISp",
        "colab": {
          "base_uri": "https://localhost:8080/"
        },
        "outputId": "d8a904f2-4978-4e09-a404-f6d7532d6665"
      },
      "source": [
        "np.add(A,B)"
      ],
      "execution_count": 37,
      "outputs": [
        {
          "output_type": "execute_result",
          "data": {
            "text/plain": [
              "array([[3, 4],\n",
              "       [2, 3],\n",
              "       [5, 2]])"
            ]
          },
          "metadata": {},
          "execution_count": 37
        }
      ]
    },
    {
      "cell_type": "markdown",
      "metadata": {
        "id": "tTDN5CULlRg_"
      },
      "source": [
        "###**Activity**"
      ]
    },
    {
      "cell_type": "markdown",
      "metadata": {
        "id": "G8D31fU9h0q8"
      },
      "source": [
        "####**Task 1**\n",
        "Create a function named mat_desc() that througouhly describes a matrix, it should:\n",
        "\n",
        "1. Displays the shape, size, and rank of the matrix.\n",
        "2. Displays whether the matrix is square or non-square.\n",
        "3. Displays whether the matrix is an empty matrix.\n",
        "4. Displays if the matrix is an identity, ones, or zeros matrix.\n",
        "\n",
        "Use 5 sample matrices in which their shapes are not lower than $(3,3)$. In your methodology, create a flowchart discuss the functions and methods you have done. Present your results in the results section showing the description of each matrix you have declared."
      ]
    },
    {
      "cell_type": "markdown",
      "metadata": {
        "id": "GSoofMlSfFcJ"
      },
      "source": [
        "1. **Shape, Size and Rank of the Matrix**"
      ]
    },
    {
      "cell_type": "code",
      "metadata": {
        "id": "XI7aN8sglJ8j"
      },
      "source": [
        "def mat_desc(matrix):\n",
        "    print(f'Matrix:\\n{matrix}\\n\\nShape:\\t{matrix.shape}\\nRank:\\t{matrix.ndim}\\n')"
      ],
      "execution_count": 10,
      "outputs": []
    },
    {
      "cell_type": "code",
      "metadata": {
        "colab": {
          "base_uri": "https://localhost:8080/"
        },
        "id": "rwG8lIM1lch5",
        "outputId": "ea9b5170-5943-4619-fded-9398aa480b16"
      },
      "source": [
        "M = np.array([\n",
        "    [15, 14, 35, 97],\n",
        "    [6, 5, 7, 56],\n",
        "    [2, 5, 0, 6],\n",
        "    [1, 5, 8, 7],\n",
        "    [32, 7, 1, 9]\n",
        "])\n",
        "mat_desc(M)"
      ],
      "execution_count": 11,
      "outputs": [
        {
          "output_type": "stream",
          "name": "stdout",
          "text": [
            "Matrix:\n",
            "[[15 14 35 97]\n",
            " [ 6  5  7 56]\n",
            " [ 2  5  0  6]\n",
            " [ 1  5  8  7]\n",
            " [32  7  1  9]]\n",
            "\n",
            "Shape:\t(5, 4)\n",
            "Rank:\t2\n",
            "\n"
          ]
        }
      ]
    },
    {
      "cell_type": "markdown",
      "metadata": {
        "id": "79Vno9pCsPD5"
      },
      "source": [
        "![Shape, Size and Rank.png](data:image/png;base64,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)"
      ]
    },
    {
      "cell_type": "markdown",
      "metadata": {
        "id": "hEyq_JI5fgpk"
      },
      "source": [
        "2. **Square or Non-Square**"
      ]
    },
    {
      "cell_type": "code",
      "metadata": {
        "id": "_i3UnuDllgby"
      },
      "source": [
        "def mat_desc(matrix):\n",
        "  is_square = True if matrix.shape[0] == matrix.shape[1] else False\n",
        "  print (f'Matrix:\\n{matrix}\\n\\nShape:\\t{matrix.shape}\\nRank:\\t{matrix.ndim}\\nIs Square: {is_square}\\n')"
      ],
      "execution_count": 12,
      "outputs": []
    },
    {
      "cell_type": "code",
      "metadata": {
        "colab": {
          "base_uri": "https://localhost:8080/"
        },
        "id": "sG5aCPknf2-B",
        "outputId": "f1e0a791-6649-4d87-ce41-b7f0a42e5c4c"
      },
      "source": [
        "A = np.array([\n",
        "    [4, 2, 4, 1],\n",
        "    [5, 7, 3, 4],\n",
        "    [5, 4, 2, 9],\n",
        "    [4, 2, 6, 5],\n",
        "    [2, 6, 3, 0]\n",
        "])\n",
        "mat_desc(A)"
      ],
      "execution_count": 14,
      "outputs": [
        {
          "output_type": "stream",
          "name": "stdout",
          "text": [
            "Matrix:\n",
            "[[4 2 4 1]\n",
            " [5 7 3 4]\n",
            " [5 4 2 9]\n",
            " [4 2 6 5]\n",
            " [2 6 3 0]]\n",
            "\n",
            "Shape:\t(5, 4)\n",
            "Rank:\t2\n",
            "Is Square: False\n",
            "\n"
          ]
        }
      ]
    },
    {
      "cell_type": "markdown",
      "metadata": {
        "id": "LyxmXnSjsbY3"
      },
      "source": [
        "![Square or Not Square.png](data:image/png;base64,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)"
      ]
    },
    {
      "cell_type": "markdown",
      "metadata": {
        "id": "C1693ZK_gZFu"
      },
      "source": [
        "3. **Empty or Not Empty**"
      ]
    },
    {
      "cell_type": "code",
      "metadata": {
        "id": "9HWN1ZxJgzYq"
      },
      "source": [
        "def mat_desc(matrix):\n",
        "    if matrix.size > 0:\n",
        "        is_square = True if matrix.shape[0] == matrix.shape[1] else False \n",
        "        print(f'Matrix:\\n{matrix}\\n\\nShape:\\t{matrix.shape}\\nRank:\\t{matrix.ndim}\\nIs Square: {is_square}\\n')\n",
        "    else:\n",
        "        print('Matrix is Null')"
      ],
      "execution_count": 16,
      "outputs": []
    },
    {
      "cell_type": "code",
      "metadata": {
        "colab": {
          "base_uri": "https://localhost:8080/"
        },
        "id": "lUc80dLng8o2",
        "outputId": "db2cc746-0bd3-44fd-8b67-c239c01b78b0"
      },
      "source": [
        "Y = np.array([\n",
        "    []\n",
        "])\n",
        "mat_desc(Y)"
      ],
      "execution_count": 17,
      "outputs": [
        {
          "output_type": "stream",
          "name": "stdout",
          "text": [
            "Matrix is Null\n"
          ]
        }
      ]
    },
    {
      "cell_type": "markdown",
      "metadata": {
        "id": "9wuMjqn6snAx"
      },
      "source": [
        "![Empty or Not Empty.png](data:image/png;base64,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)"
      ]
    },
    {
      "cell_type": "markdown",
      "metadata": {
        "id": "b4MqP0i3gysO"
      },
      "source": [
        "4. **Identity, Zeros or Ones**"
      ]
    },
    {
      "cell_type": "code",
      "metadata": {
        "colab": {
          "base_uri": "https://localhost:8080/"
        },
        "id": "VipujBuJhUTD",
        "outputId": "f62d46da-df71-43de-d575-e6d82b3d9059"
      },
      "source": [
        "zero_mat_row = np.zeros((5,8))\n",
        "zero_mat_sqr = np.zeros((7,7))\n",
        "zero_mat_rct = np.zeros((5,4))\n",
        "\n",
        "print(f'Zero Row Matrix: \\n{zero_mat_row}')\n",
        "print(f'Zero Square Matrix: \\n{zero_mat_sqr}')\n",
        "print(f'Zero Rectangular Matrix: \\n{zero_mat_rct}')"
      ],
      "execution_count": 19,
      "outputs": [
        {
          "output_type": "stream",
          "name": "stdout",
          "text": [
            "Zero Row Matrix: \n",
            "[[0. 0. 0. 0. 0. 0. 0. 0.]\n",
            " [0. 0. 0. 0. 0. 0. 0. 0.]\n",
            " [0. 0. 0. 0. 0. 0. 0. 0.]\n",
            " [0. 0. 0. 0. 0. 0. 0. 0.]\n",
            " [0. 0. 0. 0. 0. 0. 0. 0.]]\n",
            "Zero Square Matrix: \n",
            "[[0. 0. 0. 0. 0. 0. 0.]\n",
            " [0. 0. 0. 0. 0. 0. 0.]\n",
            " [0. 0. 0. 0. 0. 0. 0.]\n",
            " [0. 0. 0. 0. 0. 0. 0.]\n",
            " [0. 0. 0. 0. 0. 0. 0.]\n",
            " [0. 0. 0. 0. 0. 0. 0.]\n",
            " [0. 0. 0. 0. 0. 0. 0.]]\n",
            "Zero Rectangular Matrix: \n",
            "[[0. 0. 0. 0.]\n",
            " [0. 0. 0. 0.]\n",
            " [0. 0. 0. 0.]\n",
            " [0. 0. 0. 0.]\n",
            " [0. 0. 0. 0.]]\n"
          ]
        }
      ]
    },
    {
      "cell_type": "markdown",
      "metadata": {
        "id": "QrLCoKJ_umyI"
      },
      "source": [
        "![zero.png](data:image/png;base64,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)"
      ]
    },
    {
      "cell_type": "code",
      "metadata": {
        "colab": {
          "base_uri": "https://localhost:8080/"
        },
        "id": "gjCUugGshptT",
        "outputId": "c16dbbea-f833-4774-f163-97893a93653d"
      },
      "source": [
        "ones_mat_row = np.ones((6,7))\n",
        "ones_mat_sqr = np.ones((4,5))\n",
        "ones_mat_rct = np.ones((7,5))\n",
        "\n",
        "print(f'Ones Row Matrix: \\n{ones_mat_row}')\n",
        "print(f'Ones Square Matrix: \\n{ones_mat_sqr}')\n",
        "print(f'Ones Rectangular Matrix: \\n{ones_mat_rct}')"
      ],
      "execution_count": 20,
      "outputs": [
        {
          "output_type": "stream",
          "name": "stdout",
          "text": [
            "Ones Row Matrix: \n",
            "[[1. 1. 1. 1. 1. 1. 1.]\n",
            " [1. 1. 1. 1. 1. 1. 1.]\n",
            " [1. 1. 1. 1. 1. 1. 1.]\n",
            " [1. 1. 1. 1. 1. 1. 1.]\n",
            " [1. 1. 1. 1. 1. 1. 1.]\n",
            " [1. 1. 1. 1. 1. 1. 1.]]\n",
            "Ones Square Matrix: \n",
            "[[1. 1. 1. 1. 1.]\n",
            " [1. 1. 1. 1. 1.]\n",
            " [1. 1. 1. 1. 1.]\n",
            " [1. 1. 1. 1. 1.]]\n",
            "Ones Rectangular Matrix: \n",
            "[[1. 1. 1. 1. 1.]\n",
            " [1. 1. 1. 1. 1.]\n",
            " [1. 1. 1. 1. 1.]\n",
            " [1. 1. 1. 1. 1.]\n",
            " [1. 1. 1. 1. 1.]\n",
            " [1. 1. 1. 1. 1.]\n",
            " [1. 1. 1. 1. 1.]]\n"
          ]
        }
      ]
    },
    {
      "cell_type": "markdown",
      "metadata": {
        "id": "rYcOZ0sxupHd"
      },
      "source": [
        "![Ones.png](data:image/png;base64,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)"
      ]
    },
    {
      "cell_type": "code",
      "metadata": {
        "colab": {
          "base_uri": "https://localhost:8080/"
        },
        "id": "57x5jkKHh3_Q",
        "outputId": "19d9a7c6-6de6-43fc-bedb-0370687f45cd"
      },
      "source": [
        "np.identity(8)"
      ],
      "execution_count": 24,
      "outputs": [
        {
          "output_type": "execute_result",
          "data": {
            "text/plain": [
              "array([[1., 0., 0., 0., 0., 0., 0., 0.],\n",
              "       [0., 1., 0., 0., 0., 0., 0., 0.],\n",
              "       [0., 0., 1., 0., 0., 0., 0., 0.],\n",
              "       [0., 0., 0., 1., 0., 0., 0., 0.],\n",
              "       [0., 0., 0., 0., 1., 0., 0., 0.],\n",
              "       [0., 0., 0., 0., 0., 1., 0., 0.],\n",
              "       [0., 0., 0., 0., 0., 0., 1., 0.],\n",
              "       [0., 0., 0., 0., 0., 0., 0., 1.]])"
            ]
          },
          "metadata": {},
          "execution_count": 24
        }
      ]
    },
    {
      "cell_type": "markdown",
      "metadata": {
        "id": "hz1fEmM6uw0H"
      },
      "source": [
        "![Identity.png](data:image/png;base64,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)"
      ]
    },
    {
      "cell_type": "markdown",
      "metadata": {
        "id": "WGDWaiQJk0ep"
      },
      "source": [
        "####**Task 2**\n",
        "\n",
        "Create a function named mat_operations() that takes in two matrices a input parameters it should:\n",
        "\n",
        "1. Determines if the matrices are viable for operation and returns your own error message if they are not viable.\n",
        "2. Returns the sum of the matrices.\n",
        "3. Returns the difference of the matrices.\n",
        "4. Returns the element-wise multiplication of the matrices.\n",
        "5. Returns the element-wise division of the matrices.\n",
        "\n",
        "Use 5 sample matrices in which their shapes are not lower than $(3,3)$. In your methodology, create a flowchart discuss the functions and methods you have done. Present your results in the results section showing the description of each matrix you have declared."
      ]
    },
    {
      "cell_type": "code",
      "metadata": {
        "id": "QvhynOFfkSUw"
      },
      "source": [
        "def mat_operations(matrix):\n",
        "    print(f'Matrix:\\n{matrix}\\n\\nShape:\\t{matrix.shape}\\nRank:\\t{matrix.ndim}\\n')"
      ],
      "execution_count": 26,
      "outputs": []
    },
    {
      "cell_type": "markdown",
      "metadata": {
        "id": "tWZd45bKjTHz"
      },
      "source": [
        "1. **Sum of Matrices (Addition)**"
      ]
    },
    {
      "cell_type": "code",
      "metadata": {
        "id": "IU5Zzcq2jSiZ"
      },
      "source": [
        "M = np.array([\n",
        "    [4,5,6],\n",
        "    [3,2,3],\n",
        "    [1,0,8],\n",
        "    [1,2,3],\n",
        "    [8,3,5]\n",
        "])\n",
        "A = np.array([\n",
        "    [12,13,13],\n",
        "    [4,6,1],\n",
        "    [10,11,6],\n",
        "    [7,3,6],\n",
        "    [1,3,5]\n",
        "])\n",
        "Y = np.array([\n",
        "    [14,1,3],\n",
        "    [4,2,7],\n",
        "    [0,1,9],\n",
        "    [6,4,3],\n",
        "    [8,5,9]\n",
        "])"
      ],
      "execution_count": 50,
      "outputs": []
    },
    {
      "cell_type": "code",
      "metadata": {
        "colab": {
          "base_uri": "https://localhost:8080/"
        },
        "id": "cDhXXC4ildCa",
        "outputId": "a66f0682-1de3-4415-9db3-d64829ca41ba"
      },
      "source": [
        "M+Y"
      ],
      "execution_count": 39,
      "outputs": [
        {
          "output_type": "execute_result",
          "data": {
            "text/plain": [
              "array([[18,  6,  9],\n",
              "       [ 7,  4, 10],\n",
              "       [ 1,  1, 17],\n",
              "       [ 7,  6,  6],\n",
              "       [16,  8, 14]])"
            ]
          },
          "metadata": {},
          "execution_count": 39
        }
      ]
    },
    {
      "cell_type": "code",
      "metadata": {
        "colab": {
          "base_uri": "https://localhost:8080/"
        },
        "id": "zaJKQb6zle_g",
        "outputId": "bfc9a6e1-e521-49e8-d908-8374ac2083ad"
      },
      "source": [
        "M+A"
      ],
      "execution_count": 40,
      "outputs": [
        {
          "output_type": "execute_result",
          "data": {
            "text/plain": [
              "array([[16, 18, 19],\n",
              "       [ 7,  8,  4],\n",
              "       [11, 11, 14],\n",
              "       [ 8,  5,  9],\n",
              "       [ 9,  6, 10]])"
            ]
          },
          "metadata": {},
          "execution_count": 40
        }
      ]
    },
    {
      "cell_type": "code",
      "metadata": {
        "colab": {
          "base_uri": "https://localhost:8080/"
        },
        "id": "daUZGmhnlg5B",
        "outputId": "2d51eaa2-810b-40a2-833f-fc29cbd89071"
      },
      "source": [
        "A+Y"
      ],
      "execution_count": 41,
      "outputs": [
        {
          "output_type": "execute_result",
          "data": {
            "text/plain": [
              "array([[26, 14, 16],\n",
              "       [ 8,  8,  8],\n",
              "       [10, 12, 15],\n",
              "       [13,  7,  9],\n",
              "       [ 9,  8, 14]])"
            ]
          },
          "metadata": {},
          "execution_count": 41
        }
      ]
    },
    {
      "cell_type": "markdown",
      "metadata": {
        "id": "PUbIow1QwNYr"
      },
      "source": [
        "![Addition.png](data:image/png;base64,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)"
      ]
    },
    {
      "cell_type": "markdown",
      "metadata": {
        "id": "KPL-Vofhkhbu"
      },
      "source": [
        "2. **Differences of Matrices (Subtraction)**"
      ]
    },
    {
      "cell_type": "code",
      "metadata": {
        "colab": {
          "base_uri": "https://localhost:8080/"
        },
        "id": "gwXbJ24FkuZZ",
        "outputId": "885737c4-b817-4916-9c12-f6a768aef209"
      },
      "source": [
        "M-A"
      ],
      "execution_count": 32,
      "outputs": [
        {
          "output_type": "execute_result",
          "data": {
            "text/plain": [
              "array([[ -8,  -8,  -7],\n",
              "       [ -1,  -4,   2],\n",
              "       [ -9, -11,   2],\n",
              "       [ -6,  -1,  -3],\n",
              "       [  7,   0,   0]])"
            ]
          },
          "metadata": {},
          "execution_count": 32
        }
      ]
    },
    {
      "cell_type": "code",
      "metadata": {
        "colab": {
          "base_uri": "https://localhost:8080/"
        },
        "id": "YZ5HBOrOk6RW",
        "outputId": "81d35d44-f773-406f-c329-6ff2512d38fe"
      },
      "source": [
        "M-5"
      ],
      "execution_count": 33,
      "outputs": [
        {
          "output_type": "execute_result",
          "data": {
            "text/plain": [
              "array([[-1,  0,  1],\n",
              "       [-2, -3, -2],\n",
              "       [-4, -5,  3],\n",
              "       [-4, -3, -2],\n",
              "       [ 3, -2,  0]])"
            ]
          },
          "metadata": {},
          "execution_count": 33
        }
      ]
    },
    {
      "cell_type": "code",
      "metadata": {
        "colab": {
          "base_uri": "https://localhost:8080/"
        },
        "id": "D4jP_I87k9Ju",
        "outputId": "071a75d3-fe21-4e2a-dd51-6c3983cda334"
      },
      "source": [
        "A-8"
      ],
      "execution_count": 34,
      "outputs": [
        {
          "output_type": "execute_result",
          "data": {
            "text/plain": [
              "array([[ 4,  5,  5],\n",
              "       [-4, -2, -7],\n",
              "       [ 2,  3, -2],\n",
              "       [-1, -5, -2],\n",
              "       [-7, -5, -3]])"
            ]
          },
          "metadata": {},
          "execution_count": 34
        }
      ]
    },
    {
      "cell_type": "markdown",
      "metadata": {
        "id": "JFOEoSD-wSeX"
      },
      "source": [
        "![Subtraction.png](data:image/png;base64,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)"
      ]
    },
    {
      "cell_type": "markdown",
      "metadata": {
        "id": "QcglJNqpltq3"
      },
      "source": [
        "3. **Element-wise (Multiplication)**"
      ]
    },
    {
      "cell_type": "code",
      "metadata": {
        "colab": {
          "base_uri": "https://localhost:8080/"
        },
        "id": "Yxn61UDklo_5",
        "outputId": "ef622ca8-c4be-4482-c04f-45c12de4e39a"
      },
      "source": [
        "A*Y\n",
        "np.multiply(A,Y)"
      ],
      "execution_count": 43,
      "outputs": [
        {
          "output_type": "execute_result",
          "data": {
            "text/plain": [
              "array([[168,  13,  39],\n",
              "       [ 16,  12,   7],\n",
              "       [  0,  11,  54],\n",
              "       [ 42,  12,  18],\n",
              "       [  8,  15,  45]])"
            ]
          },
          "metadata": {},
          "execution_count": 43
        }
      ]
    },
    {
      "cell_type": "code",
      "metadata": {
        "colab": {
          "base_uri": "https://localhost:8080/"
        },
        "id": "bafCW1FSl5fM",
        "outputId": "32338bad-2e7b-415d-c3a3-e0e144037580"
      },
      "source": [
        "2*M"
      ],
      "execution_count": 44,
      "outputs": [
        {
          "output_type": "execute_result",
          "data": {
            "text/plain": [
              "array([[ 8, 10, 12],\n",
              "       [ 6,  4,  6],\n",
              "       [ 2,  0, 16],\n",
              "       [ 2,  4,  6],\n",
              "       [16,  6, 10]])"
            ]
          },
          "metadata": {},
          "execution_count": 44
        }
      ]
    },
    {
      "cell_type": "code",
      "metadata": {
        "colab": {
          "base_uri": "https://localhost:8080/"
        },
        "id": "9vXjq-a0l8NC",
        "outputId": "87fc0e59-65d8-47a4-b754-f6d2c4a4e928"
      },
      "source": [
        "5*Y"
      ],
      "execution_count": 45,
      "outputs": [
        {
          "output_type": "execute_result",
          "data": {
            "text/plain": [
              "array([[70,  5, 15],\n",
              "       [20, 10, 35],\n",
              "       [ 0,  5, 45],\n",
              "       [30, 20, 15],\n",
              "       [40, 25, 45]])"
            ]
          },
          "metadata": {},
          "execution_count": 45
        }
      ]
    },
    {
      "cell_type": "markdown",
      "metadata": {
        "id": "k-4tW6fgw5k5"
      },
      "source": [
        "![Product.png](data:image/png;base64,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)"
      ]
    },
    {
      "cell_type": "markdown",
      "metadata": {
        "id": "Ka8zZUuHmGUU"
      },
      "source": [
        "4. **Element-wise (Division)**"
      ]
    },
    {
      "cell_type": "code",
      "metadata": {
        "colab": {
          "base_uri": "https://localhost:8080/"
        },
        "id": "5z06CRBLmQQN",
        "outputId": "02be1c0a-313d-4742-89ac-59371f7bd1a9"
      },
      "source": [
        "M/Y"
      ],
      "execution_count": 46,
      "outputs": [
        {
          "output_type": "stream",
          "name": "stderr",
          "text": [
            "/usr/local/lib/python3.7/dist-packages/ipykernel_launcher.py:1: RuntimeWarning: divide by zero encountered in true_divide\n",
            "  \"\"\"Entry point for launching an IPython kernel.\n"
          ]
        },
        {
          "output_type": "execute_result",
          "data": {
            "text/plain": [
              "array([[0.28571429, 5.        , 2.        ],\n",
              "       [0.75      , 1.        , 0.42857143],\n",
              "       [       inf, 0.        , 0.88888889],\n",
              "       [0.16666667, 0.5       , 1.        ],\n",
              "       [1.        , 0.6       , 0.55555556]])"
            ]
          },
          "metadata": {},
          "execution_count": 46
        }
      ]
    },
    {
      "cell_type": "code",
      "metadata": {
        "colab": {
          "base_uri": "https://localhost:8080/"
        },
        "id": "I8FxAdAtmTyG",
        "outputId": "d63089f6-51c3-4da5-c480-3a83b5c2221f"
      },
      "source": [
        "Y/A"
      ],
      "execution_count": 47,
      "outputs": [
        {
          "output_type": "execute_result",
          "data": {
            "text/plain": [
              "array([[1.16666667, 0.07692308, 0.23076923],\n",
              "       [1.        , 0.33333333, 7.        ],\n",
              "       [0.        , 0.09090909, 1.5       ],\n",
              "       [0.85714286, 1.33333333, 0.5       ],\n",
              "       [8.        , 1.66666667, 1.8       ]])"
            ]
          },
          "metadata": {},
          "execution_count": 47
        }
      ]
    },
    {
      "cell_type": "code",
      "metadata": {
        "colab": {
          "base_uri": "https://localhost:8080/"
        },
        "id": "L3Zl_iJWmVyc",
        "outputId": "9f2a5261-6908-474e-9025-8ab44d350b22"
      },
      "source": [
        "A/3"
      ],
      "execution_count": 48,
      "outputs": [
        {
          "output_type": "execute_result",
          "data": {
            "text/plain": [
              "array([[4.        , 4.33333333, 4.33333333],\n",
              "       [1.33333333, 2.        , 0.33333333],\n",
              "       [3.33333333, 3.66666667, 2.        ],\n",
              "       [2.33333333, 1.        , 2.        ],\n",
              "       [0.33333333, 1.        , 1.66666667]])"
            ]
          },
          "metadata": {},
          "execution_count": 48
        }
      ]
    },
    {
      "cell_type": "code",
      "metadata": {
        "colab": {
          "base_uri": "https://localhost:8080/"
        },
        "id": "6E2CJNyKmYxx",
        "outputId": "c461eda3-759e-4d42-b057-901fc7be8ac6"
      },
      "source": [
        "7/M"
      ],
      "execution_count": 49,
      "outputs": [
        {
          "output_type": "stream",
          "name": "stderr",
          "text": [
            "/usr/local/lib/python3.7/dist-packages/ipykernel_launcher.py:1: RuntimeWarning: divide by zero encountered in true_divide\n",
            "  \"\"\"Entry point for launching an IPython kernel.\n"
          ]
        },
        {
          "output_type": "execute_result",
          "data": {
            "text/plain": [
              "array([[1.75      , 1.4       , 1.16666667],\n",
              "       [2.33333333, 3.5       , 2.33333333],\n",
              "       [7.        ,        inf, 0.875     ],\n",
              "       [7.        , 3.5       , 2.33333333],\n",
              "       [0.875     , 2.33333333, 1.4       ]])"
            ]
          },
          "metadata": {},
          "execution_count": 49
        }
      ]
    },
    {
      "cell_type": "markdown",
      "metadata": {
        "id": "-Wzkotf-w8UX"
      },
      "source": [
        "![Quotient.png](data:image/png;base64,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)"
      ]
    },
    {
      "cell_type": "markdown",
      "metadata": {
        "id": "ERVxA09Zj7Q6"
      },
      "source": [
        "###**Conclusion**\n",
        "\n",
        "Having a basic knowledge about matrix is probably an advantage for us students because we already know the meaning of whatever codes that we are inputting in the Colab. We are able to somehow distinguish what part went wrong and what part run smoothly. That’s why I think that listening attentively while in the class would be a big help in terms of computer programming. I learned that there are specific code that we have to use in each command. One single mistake could really destroy the outcome of all program. Overall, matrix operations do help in solving problems in technology in terms of security. There are specific code that helps in encoding and decoding data. It is also use to study the trends in business, plotting graphs and statistics, animations, and other physics related technologies. Without matrix, certain technology would not function precisely and without high accuracy. \n"
      ]
    }
  ]
}