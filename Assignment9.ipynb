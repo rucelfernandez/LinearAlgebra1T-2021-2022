{
  "nbformat": 4,
  "nbformat_minor": 0,
  "metadata": {
    "colab": {
      "name": "Assignment9.ipynb",
      "provenance": [],
      "collapsed_sections": [],
      "authorship_tag": "ABX9TyNmbLYt+Kq95lSyYo1mdQ/R",
      "include_colab_link": true
    },
    "kernelspec": {
      "name": "python3",
      "display_name": "Python 3"
    },
    "language_info": {
      "name": "python"
    }
  },
  "cells": [
    {
      "cell_type": "markdown",
      "metadata": {
        "id": "view-in-github",
        "colab_type": "text"
      },
      "source": [
        "<a href=\"https://colab.research.google.com/github/rucelfernandez/LinearAlgebra1T-2021-2022/blob/main/Assignment9.ipynb\" target=\"_parent\"><img src=\"https://colab.research.google.com/assets/colab-badge.svg\" alt=\"Open In Colab\"/></a>"
      ]
    },
    {
      "cell_type": "markdown",
      "metadata": {
        "id": "gR4p2qTSOksG"
      },
      "source": [
        "#**Lab 2 - Plotting Vector using NumPy and MatPlotLib**\n",
        "\n",
        "In this laboratory we will be discussing the basics of numerical and scientific programming by working with vectors "
      ]
    },
    {
      "cell_type": "markdown",
      "metadata": {
        "id": "UtnHDK_kO48w"
      },
      "source": [
        "###**Objectives**\n",
        "\n",
        "At the end of this activity you will be able to:\n",
        "\n",
        "1. Be familiar with the libraries in Python for numerical and scientific programming.\n",
        "2. Visualize vectors through Python programming.\n",
        "3. Perform simple vector operations through code.\n",
        "\n",
        "##**Discussion**\n",
        "\n",
        "###**NumPy** \n",
        "\n",
        "NumPy or Numerical Python, is mainly used for matrix and vector operations. It is capable of declaring computing and representing matrices. Most Python scientific programming libraries uses NumPy as the basic code.\n",
        "\n",
        "**Scalars**  $(Temperature, Time)$\n",
        "\n",
        "Represents magnitude or a single value \n",
        "\n",
        "**Vectors** $(Displacement, Velocity, Position)$\n",
        "\n",
        "Represent magnitude with directions"
      ]
    },
    {
      "cell_type": "markdown",
      "metadata": {
        "id": "hqh-3E_-Pc36"
      },
      "source": [
        "####**Representing Vectors**\n",
        "\n",
        "Now that you know how to represent vectors using their component and matrix form we can now hard-code them in Python. Let's say that you have the vectors:\n",
        "\n",
        "\n",
        "$$ A = 4\\hat{x} + 3\\hat{y} \\\\\n",
        "B = 2\\hat{x} - 5\\hat{y}\\\\\n",
        "C = 4ax + 3ay - 2az \\\\\n",
        "D = 2\\hat{i} - 2\\hat{j} +3\\hat{k}$$\n",
        "\n",
        "In which it's matrix equivalent is:\n",
        "\n",
        "$$ A = \\begin{bmatrix} 4 \\\\ 3\\end{bmatrix} , B = \\begin{bmatrix} 2 \\\\ -5\\end{bmatrix}, C = \\begin{bmatrix} 4 \\\\ 3\\\\ -2\\end{bmatrix} , D = \\begin{bmatrix} 2 \\\\ -2\\\\ 3\\end{bmatrix} \n",
        "$$\n",
        "\n",
        "\\\n",
        "$$ A = \\begin{bmatrix} 4 & 3\\end{bmatrix} , B = \\begin{bmatrix} 2 & -5\\end{bmatrix}, C = \\begin{bmatrix} 4 & 3 & -2\\end{bmatrix} , D = \\begin{bmatrix} 2 & -2 & 3\\end{bmatrix} \n",
        "$$\n",
        "\n",
        "We can then start doing numpy code with this by:\n",
        "\n"
      ]
    },
    {
      "cell_type": "code",
      "metadata": {
        "id": "JzZxpmzNOh8L"
      },
      "source": [
        "import numpy as np ## 'np' here is short-hand name of the library (numpy) or a nickname."
      ],
      "execution_count": 2,
      "outputs": []
    },
    {
      "cell_type": "code",
      "metadata": {
        "colab": {
          "base_uri": "https://localhost:8080/"
        },
        "id": "bqJflR2HSd7l",
        "outputId": "3685e10e-9a55-4006-fbf2-39152352d724"
      },
      "source": [
        "A = np.array([4, 3])\n",
        "B = np.array([2, -5])\n",
        "C = np.array([\n",
        "              [4],\n",
        "              [3],\n",
        "              [-2]\n",
        "])\n",
        "D = np.array([\n",
        "              [2],\n",
        "              [-2],\n",
        "              [3]\n",
        "])\n",
        "print('Vector A is',A)\n",
        "print('Vector B is',B)\n",
        "print('Vector C is',C)\n",
        "print('Vector D is',D)"
      ],
      "execution_count": null,
      "outputs": [
        {
          "output_type": "stream",
          "name": "stdout",
          "text": [
            "Vector A is [4 3]\n",
            "Vector B is [ 2 -5]\n",
            "Vector C is [[ 4]\n",
            " [ 3]\n",
            " [-2]]\n",
            "Vector D is [[ 2]\n",
            " [-2]\n",
            " [ 3]]\n"
          ]
        }
      ]
    },
    {
      "cell_type": "markdown",
      "metadata": {
        "id": "QIrmsndOTWIW"
      },
      "source": [
        "####**Describing vectors in NumPy**\n",
        "\n",
        "Describing vectors is very important if we want to perform basic to advanced operations with them. The fundamental ways in describing vectors are knowing their shape, size and dimensions."
      ]
    },
    {
      "cell_type": "code",
      "metadata": {
        "colab": {
          "base_uri": "https://localhost:8080/"
        },
        "id": "9Pk0m6MCTekO",
        "outputId": "5bf3f38e-afdd-4596-c0f8-86069fed70f2"
      },
      "source": [
        "A.shape\n",
        "H = np.array([1,0,2,5,-0.2,0])\n",
        "H.shape\n",
        "C.shape"
      ],
      "execution_count": null,
      "outputs": [
        {
          "output_type": "execute_result",
          "data": {
            "text/plain": [
              "(3, 1)"
            ]
          },
          "metadata": {},
          "execution_count": 4
        }
      ]
    },
    {
      "cell_type": "code",
      "metadata": {
        "colab": {
          "base_uri": "https://localhost:8080/"
        },
        "id": "HwFiz3T6ThvG",
        "outputId": "5d0f18c8-3d0d-4c72-944b-bc4d12260cd0"
      },
      "source": [
        "D.size"
      ],
      "execution_count": null,
      "outputs": [
        {
          "output_type": "execute_result",
          "data": {
            "text/plain": [
              "3"
            ]
          },
          "metadata": {},
          "execution_count": 5
        }
      ]
    },
    {
      "cell_type": "code",
      "metadata": {
        "colab": {
          "base_uri": "https://localhost:8080/"
        },
        "id": "OFSdWhprT9VI",
        "outputId": "c157f814-ad40-4995-ccd0-8ac0dcf29f60"
      },
      "source": [
        "D.ndim"
      ],
      "execution_count": null,
      "outputs": [
        {
          "output_type": "execute_result",
          "data": {
            "text/plain": [
              "2"
            ]
          },
          "metadata": {},
          "execution_count": 6
        }
      ]
    },
    {
      "cell_type": "markdown",
      "metadata": {
        "id": "FljPaNvrUj_6"
      },
      "source": [
        "Great! Now let's try to explore in performing operations with these vectors.\n",
        "\n",
        "####**Addition**\n",
        "\n",
        "The addition rule is simple, the we just need to add the elements of the matrices according to their index. So in this case if we add vector $A$ and vector $B$ we will have a resulting vector:\n",
        "\n",
        "$$R = 6\\hat{i} - 2\\hat{j}$$\n",
        "$$or$$\n",
        " $$R = \\begin{bmatrix} 6 \\\\ -2\\end{bmatrix}$$"
      ]
    },
    {
      "cell_type": "code",
      "metadata": {
        "colab": {
          "base_uri": "https://localhost:8080/"
        },
        "id": "g0LVDiwVUjZ6",
        "outputId": "6ad2418a-5a18-4c27-961e-13949f57830a"
      },
      "source": [
        "R = np.add(A,B)\n",
        "P = np.add(C,D)\n",
        "Q = np.add(A,C)\n",
        "Q"
      ],
      "execution_count": null,
      "outputs": [
        {
          "output_type": "execute_result",
          "data": {
            "text/plain": [
              "array([[8, 7],\n",
              "       [7, 6],\n",
              "       [2, 1]])"
            ]
          },
          "metadata": {},
          "execution_count": 7
        }
      ]
    },
    {
      "cell_type": "code",
      "metadata": {
        "colab": {
          "base_uri": "https://localhost:8080/"
        },
        "id": "FV2Xtc7aVfRN",
        "outputId": "7a94eb5b-3fcb-4584-a384-0cd69e34fb7d"
      },
      "source": [
        "R = A + B  ## this is the explicit method, since Python does a value-reference so it can \n",
        "            ## know that these variables would need to do array operations.\n",
        "R"
      ],
      "execution_count": null,
      "outputs": [
        {
          "output_type": "execute_result",
          "data": {
            "text/plain": [
              "array([ 6, -2])"
            ]
          },
          "metadata": {},
          "execution_count": 8
        }
      ]
    },
    {
      "cell_type": "code",
      "metadata": {
        "colab": {
          "base_uri": "https://localhost:8080/"
        },
        "id": "dU262dJMV3UB",
        "outputId": "784fc498-4c13-416b-88f6-45cce7bb1a1f"
      },
      "source": [
        "pos1 = np.array([0,0,0])\n",
        "pos2 = np.array([0,1,3])\n",
        "pos3 = np.array([1,5,-2])\n",
        "pos4 = np.array([5,-3,3])\n",
        "#R = pos1 + pos2 + pos3 + pos4\n",
        "#R = pos1 - pos2\n",
        "#R = np.multiply(pos3, pos4)\n",
        "#R = pos3 + pos4\n",
        "R = pos3 / pos4\n",
        "R"
      ],
      "execution_count": null,
      "outputs": [
        {
          "output_type": "execute_result",
          "data": {
            "text/plain": [
              "array([ 0.2       , -1.66666667, -0.66666667])"
            ]
          },
          "metadata": {},
          "execution_count": 9
        }
      ]
    },
    {
      "cell_type": "code",
      "metadata": {
        "id": "p5w6e-BCWTrv",
        "colab": {
          "base_uri": "https://localhost:8080/"
        },
        "outputId": "e36b8f70-1348-4a19-ba7b-7a6675ea5b4a"
      },
      "source": [
        "pos1 = np.array([0,0,0])\n",
        "pos2 = np.array([0,1,3])\n",
        "pos3 = np.array([1,5,-2])\n",
        "pos4 = np.array([5,-3,3])\n",
        "R = pos1 + pos2 + pos3 + pos4\n",
        "R"
      ],
      "execution_count": null,
      "outputs": [
        {
          "output_type": "execute_result",
          "data": {
            "text/plain": [
              "array([6, 3, 4])"
            ]
          },
          "metadata": {},
          "execution_count": 10
        }
      ]
    },
    {
      "cell_type": "markdown",
      "metadata": {
        "id": "HWIM74ZVOUgx"
      },
      "source": [
        "**Try for yourself!**\n",
        "\n",
        "Try to implement subtraction, multiplication, and division with vectors $A$ and $B$!"
      ]
    },
    {
      "cell_type": "code",
      "metadata": {
        "id": "uSHeLhTfW4Tq",
        "colab": {
          "base_uri": "https://localhost:8080/"
        },
        "outputId": "9c5fd19c-e88e-4d0c-c47d-e180ace6662c"
      },
      "source": [
        "M = np.array([8,4])\n",
        "E = np.array([7,5])\n",
        "Y = np.array([\n",
        "              [5],\n",
        "              [7],\n",
        "              [2]\n",
        "])\n",
        "I = np.array([\n",
        "              [3],\n",
        "              [12],\n",
        "              [7]\n",
        "])\n",
        "print('Vector M is',M)\n",
        "print('Vector E is',E)\n",
        "print('Vector Y is',Y)\n",
        "print('Vector I is',I)"
      ],
      "execution_count": null,
      "outputs": [
        {
          "output_type": "stream",
          "name": "stdout",
          "text": [
            "Vector M is [8 4]\n",
            "Vector E is [7 5]\n",
            "Vector Y is [[5]\n",
            " [7]\n",
            " [2]]\n",
            "Vector I is [[ 3]\n",
            " [12]\n",
            " [ 7]]\n"
          ]
        }
      ]
    },
    {
      "cell_type": "code",
      "metadata": {
        "colab": {
          "base_uri": "https://localhost:8080/"
        },
        "id": "aSJYFUyUP6cP",
        "outputId": "7b7a077f-cc32-4d9a-c01e-92929fbb42fb"
      },
      "source": [
        "#Addition\n",
        "F = np.add(M,E)\n",
        "R = np.add(Y,I)\n",
        "Z = np.add(E,I)\n",
        "Z"
      ],
      "execution_count": null,
      "outputs": [
        {
          "output_type": "execute_result",
          "data": {
            "text/plain": [
              "array([[10,  8],\n",
              "       [19, 17],\n",
              "       [14, 12]])"
            ]
          },
          "metadata": {},
          "execution_count": 12
        }
      ]
    },
    {
      "cell_type": "code",
      "metadata": {
        "colab": {
          "base_uri": "https://localhost:8080/"
        },
        "id": "Qbi2Uan7QMaB",
        "outputId": "e4598d03-582a-475c-d175-1937b3000898"
      },
      "source": [
        "#Subtraction\n",
        "F = np.subtract(M,E)\n",
        "R = np.subtract(Y,I)\n",
        "Z = np.subtract(E,I)\n",
        "Z"
      ],
      "execution_count": null,
      "outputs": [
        {
          "output_type": "execute_result",
          "data": {
            "text/plain": [
              "array([[ 4,  2],\n",
              "       [-5, -7],\n",
              "       [ 0, -2]])"
            ]
          },
          "metadata": {},
          "execution_count": 13
        }
      ]
    },
    {
      "cell_type": "code",
      "metadata": {
        "colab": {
          "base_uri": "https://localhost:8080/"
        },
        "id": "LQxOu1SFRhHu",
        "outputId": "9620e90a-b0ec-41f8-c463-308b2fda939a"
      },
      "source": [
        "#Multiplication\n",
        "J = np.multiply(7,M)\n",
        "K = np.multiply(I,Y)\n",
        "L = np.multiply(9,E)\n",
        "J\n"
      ],
      "execution_count": null,
      "outputs": [
        {
          "output_type": "execute_result",
          "data": {
            "text/plain": [
              "array([56, 28])"
            ]
          },
          "metadata": {},
          "execution_count": 14
        }
      ]
    },
    {
      "cell_type": "code",
      "metadata": {
        "colab": {
          "base_uri": "https://localhost:8080/"
        },
        "id": "G0PnMYJTpLBI",
        "outputId": "48fe4add-8e8e-49cc-a6ad-4967179e2bd6"
      },
      "source": [
        "#Division\n",
        "J = np.divide(7,M)\n",
        "K = np.divide(I,Y)\n",
        "L = np.divide(9,E)\n",
        "J"
      ],
      "execution_count": null,
      "outputs": [
        {
          "output_type": "execute_result",
          "data": {
            "text/plain": [
              "array([0.875, 1.75 ])"
            ]
          },
          "metadata": {},
          "execution_count": 23
        }
      ]
    },
    {
      "cell_type": "markdown",
      "metadata": {
        "id": "XPtGoK9_XFvZ"
      },
      "source": [
        "####**Scaling**\n",
        "\n",
        "Scaling or scalar multiplication takes a scalar value and performs multiplication with a vector. Let's take the example below:\n",
        "\n",
        "$$S = 5 \\cdot A$$\n",
        "\n",
        "We can do this in numpy through:"
      ]
    },
    {
      "cell_type": "code",
      "metadata": {
        "colab": {
          "base_uri": "https://localhost:8080/"
        },
        "id": "pi1AnJEVXOHU",
        "outputId": "27757eaf-0625-4efa-f752-73b57f3b88c9"
      },
      "source": [
        "#S = 5 * A\n",
        "S = np.multiply(5,A)\n",
        "S"
      ],
      "execution_count": null,
      "outputs": [
        {
          "output_type": "execute_result",
          "data": {
            "text/plain": [
              "array([20, 15])"
            ]
          },
          "metadata": {},
          "execution_count": 15
        }
      ]
    },
    {
      "cell_type": "markdown",
      "metadata": {
        "id": "aPoa2T9MXk8A"
      },
      "source": [
        "Try to implement scaling with two vectors "
      ]
    },
    {
      "cell_type": "code",
      "metadata": {
        "colab": {
          "base_uri": "https://localhost:8080/"
        },
        "id": "XTRzo-4NptQi",
        "outputId": "3f1000e6-92d7-46fe-d10d-1f4ffbde1b48"
      },
      "source": [
        "#S = 5 * A\n",
        "#H = 3 * B\n",
        "S = np.multiply(5,A)\n",
        "H = np.multiply(3,B)\n",
        "P = S*H\n",
        "P"
      ],
      "execution_count": null,
      "outputs": [
        {
          "output_type": "execute_result",
          "data": {
            "text/plain": [
              "array([-150,  630])"
            ]
          },
          "metadata": {},
          "execution_count": 24
        }
      ]
    },
    {
      "cell_type": "markdown",
      "metadata": {
        "id": "DPl6eXNgXwT9"
      },
      "source": [
        "###**MatPlotLib**\n",
        "\n",
        "MatPlotLib or MATLab Plotting library is Python's take on MATLabs plotting feature. MatPlotLib can be used vastly from graping values to visualizing several dimensions of data.\n",
        "\n",
        "**Visualizing Data**\n",
        "\n",
        "It's not enough just solving these vectors so might need to visualize them. So we'll use MatPlotLib for that. We'll need to import it first."
      ]
    },
    {
      "cell_type": "code",
      "metadata": {
        "id": "-pqSMivAX84f"
      },
      "source": [
        "import matplotlib.pyplot as plt\n",
        "import matplotlib\n",
        "%matplotlib inline"
      ],
      "execution_count": 3,
      "outputs": []
    },
    {
      "cell_type": "code",
      "metadata": {
        "colab": {
          "base_uri": "https://localhost:8080/",
          "height": 265
        },
        "id": "yUUqs2M8YYlG",
        "outputId": "e27191c2-bc58-425d-d315-291c479cd970"
      },
      "source": [
        "A = [1,-1]\n",
        "B = [5,2]\n",
        "plt.scatter(A[0], A[1], label = 'A', c = 'green')\n",
        "plt.scatter(B[0], B[1], label = 'B', c = 'magenta')\n",
        "plt.grid()\n",
        "plt.legend()\n",
        "plt.show()"
      ],
      "execution_count": null,
      "outputs": [
        {
          "output_type": "display_data",
          "data": {
            "image/png": "[encoded data removed]",
            "text/plain": [
              "<Figure size 432x288 with 1 Axes>"
            ]
          },
          "metadata": {
            "needs_background": "light"
          }
        }
      ]
    },
    {
      "cell_type": "code",
      "metadata": {
        "colab": {
          "base_uri": "https://localhost:8080/",
          "height": 364
        },
        "id": "N9JhmGeTaafD",
        "outputId": "19f2c005-125f-43f9-e39a-4436c6dec588"
      },
      "source": [
        "A = np.array([1, -1])\n",
        "B = np.array([1, 5])\n",
        "plt.title(\"Resultant Vector\\nMagnitude:{}\")\n",
        "plt.xlim(-5, 5)\n",
        "plt.ylim(-5, 5)\n",
        "plt.quiver(0, 0, A[0], A[1], angles='xy', scale_units='xy', scale=1, color='purple')\n",
        "plt.quiver(A[0], A[1], B[0], B[1], angles='xy', scale_units='xy', scale=1, color='orange')\n",
        "R = A + B\n",
        "plt.quiver(0, 0, R[0], R[1], angles='xy', scale_units='xy', scale=1, color='blue')\n",
        "plt.grid()\n",
        "plt.show()\n",
        "Magnitude = np.sqrt(np.sum(R**2))\n",
        "Slope = R[1]/R[0]\n",
        "Angle = (np.arctan(Slope))*(180/np.pi)\n",
        "\n",
        "print('The Resultant is',R)\n",
        "print('The Magnitude is',Magnitude)\n",
        "print('The Slope is',Slope)\n",
        "print('The Angle is',Angle)"
      ],
      "execution_count": null,
      "outputs": [
        {
          "output_type": "display_data",
          "data": {
            "image/png": "[encoded data removed]",
            "text/plain": [
              "<Figure size 432x288 with 1 Axes>"
            ]
          },
          "metadata": {
            "needs_background": "light"
          }
        },
        {
          "output_type": "stream",
          "name": "stdout",
          "text": [
            "The Resultant is [2 4]\n",
            "The Magnitude is 4.47213595499958\n",
            "The Slope is 2.0\n",
            "The Angle is 63.43494882292201\n"
          ]
        }
      ]
    },
    {
      "cell_type": "code",
      "metadata": {
        "id": "SX1OLJUTYLxC",
        "colab": {
          "base_uri": "https://localhost:8080/",
          "height": 269
        },
        "outputId": "7e0cefbe-d82b-4740-e0c1-7c9c917ff066"
      },
      "source": [
        "n = A.shape[0]\n",
        "plt.xlim(-10, 10)\n",
        "plt.ylim(-10, 10)\n",
        "plt.quiver(0,0, A[0], A[1], angles='xy', scale_units='xy',scale=1)\n",
        "plt.quiver(A[0],A[1], B[0], B[1], angles='xy', scale_units='xy',scale=1)\n",
        "plt.quiver(0,0, R[0], R[1], angles='xy', scale_units='xy',scale=1)\n",
        "plt.show()"
      ],
      "execution_count": null,
      "outputs": [
        {
          "output_type": "display_data",
          "data": {
            "image/png": "[encoded data removed]",
            "text/plain": [
              "<Figure size 432x288 with 1 Axes>"
            ]
          },
          "metadata": {
            "needs_background": "light"
          }
        }
      ]
    },
    {
      "cell_type": "markdown",
      "metadata": {
        "id": "feyYXdJVhN_r"
      },
      "source": [
        "Try plotting Three Vectors and Show the Resultant Vector as a result. \n",
        "Use Head to Tail Method "
      ]
    },
    {
      "cell_type": "code",
      "metadata": {
        "colab": {
          "base_uri": "https://localhost:8080/",
          "height": 364
        },
        "id": "Cb7A97GshNaf",
        "outputId": "f512f26c-ca32-437e-8c46-99f4c073b746"
      },
      "source": [
        "A = np.array([1, 6])\n",
        "B = np.array([-3, 2])\n",
        "C = np.array([8, 0])\n",
        "plt.title(\"Resultant Vector\\nMagnitude:{}\")\n",
        "plt.xlim(-5, 15)\n",
        "plt.ylim(-5, 15)\n",
        "plt.quiver(0, 0, A[0], A[1], angles='xy', scale_units='xy', scale=1, color='pink')\n",
        "plt.quiver(A[0], A[1], B[0], B[1], angles='xy', scale_units='xy', scale=1, color='red')\n",
        "plt.quiver(-2, 8, C[0], C[1], angles='xy', scale_units='xy', scale=1, color='orange')\n",
        "R = A + B + C\n",
        "plt.quiver(0, 0, R[0], R[1], angles='xy', scale_units='xy', scale=1, color='lime')\n",
        "plt.grid()\n",
        "plt.show()\n",
        "Magnitude = np.sqrt(np.sum(R**2))\n",
        "Slope = R[1]/R[0]\n",
        "Angle = (np.arctan(Slope))*(180/np.pi)\n",
        "\n",
        "\n",
        "print('The Resultant is',R)\n",
        "print('The Magnitude is',Magnitude)\n",
        "print('The Slope is',Slope)\n",
        "print('The Angle is',Angle)"
      ],
      "execution_count": 41,
      "outputs": [
        {
          "output_type": "display_data",
          "data": {
            "image/png": "[encoded data removed]",
            "text/plain": [
              "<Figure size 432x288 with 1 Axes>"
            ]
          },
          "metadata": {
            "needs_background": "light"
          }
        },
        {
          "output_type": "stream",
          "name": "stdout",
          "text": [
            "The Resultant is [6 8]\n",
            "The Magnitude is 10.0\n",
            "The Slope is 1.3333333333333333\n",
            "The Angle is 53.13010235415598\n"
          ]
        }
      ]
    },
    {
      "cell_type": "markdown",
      "metadata": {
        "id": "Hg5_PM_Ksn5s"
      },
      "source": [
        "![Blank diagram.png](data:image/png;base64,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)"
      ]
    }
  ]
}