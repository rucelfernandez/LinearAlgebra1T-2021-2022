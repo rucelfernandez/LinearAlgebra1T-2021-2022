{
  "nbformat": 4,
  "nbformat_minor": 0,
  "metadata": {
    "colab": {
      "name": "Assignment6.ipynb",
      "provenance": [],
      "collapsed_sections": [],
      "authorship_tag": "ABX9TyNL68E6y/jdBL1qwYHVC7Xg",
      "include_colab_link": true
    },
    "kernelspec": {
      "name": "python3",
      "display_name": "Python 3"
    },
    "language_info": {
      "name": "python"
    }
  },
  "cells": [
    {
      "cell_type": "markdown",
      "metadata": {
        "id": "view-in-github",
        "colab_type": "text"
      },
      "source": [
        "<a href=\"https://colab.research.google.com/github/rucelfernandez/LinearAlgebra1T-2021-2022/blob/main/Assignment6.ipynb\" target=\"_parent\"><img src=\"https://colab.research.google.com/assets/colab-badge.svg\" alt=\"Open In Colab\"/></a>"
      ]
    },
    {
      "cell_type": "markdown",
      "metadata": {
        "id": "uZkO7_XXEbdV"
      },
      "source": [
        "#**Linear Algebra for ECE**\n",
        "##**Laboratory 6: Matrix Operations**\n",
        "\n",
        "Now that you have a fundamental knowledge about representing and operating with vectors as well as the fundamentals of matrices, we'll try to do the same operations with matrices and even more. "
      ]
    },
    {
      "cell_type": "markdown",
      "metadata": {
        "id": "acNBaJxwEz2-"
      },
      "source": [
        "###**Objectives**\n",
        "At the end of this activity you will be able to:\n",
        "1. Be familiar with the fundamental matrix operations.\n",
        "2. Apply the operations to solve intermmediate equations.\n",
        "3. Apply matrix algebra in engineering solutions"
      ]
    },
    {
      "cell_type": "markdown",
      "metadata": {
        "id": "eyeK1k25FJUK"
      },
      "source": [
        "##**Discussion**"
      ]
    },
    {
      "cell_type": "code",
      "metadata": {
        "id": "gJaxYfkFDpss"
      },
      "source": [
        "import numpy as np\n",
        "import matplotlib.pyplot as plt\n",
        "%matplotlib inline"
      ],
      "execution_count": null,
      "outputs": []
    },
    {
      "cell_type": "markdown",
      "metadata": {
        "id": "wIr681fCHG-Y"
      },
      "source": [
        "###**Transposition**\n"
      ]
    },
    {
      "cell_type": "markdown",
      "metadata": {
        "id": "v4s6z34uHKvy"
      },
      "source": [
        "One of the fundamental operations in matrix algebra is Transposition. The transpose of a matrix is done by flipping the values of its elements over its diagonals. With this, the rows and columns from the original matrix will be switched. So for a matrix $A$ its transpose is denoted as $A^T$. \n",
        "So far example:"
      ]
    },
    {
      "cell_type": "markdown",
      "metadata": {
        "id": "Z3j96ev-H0rD"
      },
      "source": [
        "$$A = \\begin{bmatrix} 1 & 2 & 5\\\\5 & -1 &0 \\\\ 0 & -3 & 3\\end{bmatrix} $$\n",
        "\n",
        "$$A^T = \\begin{bmatrix} 1 & 5 & 0\\\\2 & -1 &-3 \\\\ 5 & 0 & 3\\end{bmatrix} $$"
      ]
    },
    {
      "cell_type": "markdown",
      "metadata": {
        "id": "mEZ1bb9yHsZF"
      },
      "source": [
        "This can now be achieved programmatically by using np.tanspose() or using the T method."
      ]
    },
    {
      "cell_type": "code",
      "metadata": {
        "colab": {
          "base_uri": "https://localhost:8080/"
        },
        "id": "IkUbgnO5H4WL",
        "outputId": "914a3535-b970-40fc-de4f-5d3c87f2b69e"
      },
      "source": [
        "A = np.array ([\n",
        "    [1,2,5],\n",
        "    [5,-1,0],\n",
        "    [0,-3,3]\n",
        "])\n",
        "A"
      ],
      "execution_count": null,
      "outputs": [
        {
          "output_type": "execute_result",
          "data": {
            "text/plain": [
              "array([[ 1,  2,  5],\n",
              "       [ 5, -1,  0],\n",
              "       [ 0, -3,  3]])"
            ]
          },
          "metadata": {},
          "execution_count": 2
        }
      ]
    },
    {
      "cell_type": "code",
      "metadata": {
        "colab": {
          "base_uri": "https://localhost:8080/"
        },
        "id": "qIcjlp24HxOm",
        "outputId": "97d371a7-3b02-439c-b29f-f19be4d91604"
      },
      "source": [
        "AT1 = np.transpose(A)\n",
        "AT1\n"
      ],
      "execution_count": null,
      "outputs": [
        {
          "output_type": "execute_result",
          "data": {
            "text/plain": [
              "array([[ 1,  5,  0],\n",
              "       [ 2, -1, -3],\n",
              "       [ 5,  0,  3]])"
            ]
          },
          "metadata": {},
          "execution_count": 3
        }
      ]
    },
    {
      "cell_type": "code",
      "metadata": {
        "colab": {
          "base_uri": "https://localhost:8080/"
        },
        "id": "nP18sLqEIgTG",
        "outputId": "ae7d71f5-2e62-4799-a1dd-e7e306280d76"
      },
      "source": [
        "AT2 = A.T\n",
        "AT2"
      ],
      "execution_count": null,
      "outputs": [
        {
          "output_type": "execute_result",
          "data": {
            "text/plain": [
              "array([[ 1,  5,  0],\n",
              "       [ 2, -1, -3],\n",
              "       [ 5,  0,  3]])"
            ]
          },
          "metadata": {},
          "execution_count": 4
        }
      ]
    },
    {
      "cell_type": "code",
      "metadata": {
        "colab": {
          "base_uri": "https://localhost:8080/"
        },
        "id": "jmVuvIyTIopa",
        "outputId": "b75430c3-139b-484e-f2ba-daafe25be1f2"
      },
      "source": [
        "np.array_equiv(AT1, AT2)"
      ],
      "execution_count": null,
      "outputs": [
        {
          "output_type": "execute_result",
          "data": {
            "text/plain": [
              "True"
            ]
          },
          "metadata": {},
          "execution_count": 5
        }
      ]
    },
    {
      "cell_type": "code",
      "metadata": {
        "colab": {
          "base_uri": "https://localhost:8080/"
        },
        "id": "Oa3ghUXnIzsw",
        "outputId": "ad75455b-214a-41ee-f2be-e39df512f216"
      },
      "source": [
        "B = np.array([\n",
        "    [1,2,3,4],\n",
        "    [1,0,2,1],\n",
        "])\n",
        "B.shape"
      ],
      "execution_count": null,
      "outputs": [
        {
          "output_type": "execute_result",
          "data": {
            "text/plain": [
              "(2, 4)"
            ]
          },
          "metadata": {},
          "execution_count": 6
        }
      ]
    },
    {
      "cell_type": "code",
      "metadata": {
        "colab": {
          "base_uri": "https://localhost:8080/"
        },
        "id": "1eZo1WwFK4ec",
        "outputId": "6e7189e9-e667-44f8-c559-d40102aeba27"
      },
      "source": [
        "np.transpose(B).shape"
      ],
      "execution_count": null,
      "outputs": [
        {
          "output_type": "execute_result",
          "data": {
            "text/plain": [
              "(4, 2)"
            ]
          },
          "metadata": {},
          "execution_count": 7
        }
      ]
    },
    {
      "cell_type": "code",
      "metadata": {
        "colab": {
          "base_uri": "https://localhost:8080/"
        },
        "id": "n2s7rbJjLoKd",
        "outputId": "51359127-5d37-4f20-dde3-483831b741e2"
      },
      "source": [
        "B.T.shape"
      ],
      "execution_count": null,
      "outputs": [
        {
          "output_type": "execute_result",
          "data": {
            "text/plain": [
              "(4, 2)"
            ]
          },
          "metadata": {},
          "execution_count": 8
        }
      ]
    },
    {
      "cell_type": "markdown",
      "metadata": {
        "id": "D7uB1eDDLv3P"
      },
      "source": [
        "**Try to create your own matrix (you can try non-squares) to test transposition.**"
      ]
    },
    {
      "cell_type": "code",
      "metadata": {
        "colab": {
          "base_uri": "https://localhost:8080/"
        },
        "id": "vg4h-ry1L11f",
        "outputId": "0aafe297-bc26-42fb-dadd-1f21791e5656"
      },
      "source": [
        "M = np.array([\n",
        "    [3,6,4,0],\n",
        "    [4,1,4,5],\n",
        "    [2,4,6,2],\n",
        "])\n",
        "M.shape"
      ],
      "execution_count": null,
      "outputs": [
        {
          "output_type": "execute_result",
          "data": {
            "text/plain": [
              "(3, 4)"
            ]
          },
          "metadata": {},
          "execution_count": 9
        }
      ]
    },
    {
      "cell_type": "code",
      "metadata": {
        "colab": {
          "base_uri": "https://localhost:8080/"
        },
        "id": "hVHngEKoMJX3",
        "outputId": "79205ade-f778-4160-a471-6df015893b48"
      },
      "source": [
        "np.transpose(M).shape"
      ],
      "execution_count": null,
      "outputs": [
        {
          "output_type": "execute_result",
          "data": {
            "text/plain": [
              "(4, 3)"
            ]
          },
          "metadata": {},
          "execution_count": 10
        }
      ]
    },
    {
      "cell_type": "code",
      "metadata": {
        "colab": {
          "base_uri": "https://localhost:8080/"
        },
        "id": "9hPVEr7kL1cN",
        "outputId": "b9353f9a-3e3d-4089-8735-30cdcadb2ab7"
      },
      "source": [
        "M.T.shape"
      ],
      "execution_count": null,
      "outputs": [
        {
          "output_type": "execute_result",
          "data": {
            "text/plain": [
              "(4, 3)"
            ]
          },
          "metadata": {},
          "execution_count": 11
        }
      ]
    },
    {
      "cell_type": "code",
      "metadata": {
        "colab": {
          "base_uri": "https://localhost:8080/"
        },
        "id": "LI-sSqREMl0S",
        "outputId": "a5afd2cf-6c83-4bbd-dd0b-6f3ec097135a"
      },
      "source": [
        "MT = M.T\n",
        "MT"
      ],
      "execution_count": null,
      "outputs": [
        {
          "output_type": "execute_result",
          "data": {
            "text/plain": [
              "array([[3, 4, 2],\n",
              "       [6, 1, 4],\n",
              "       [4, 4, 6],\n",
              "       [0, 5, 2]])"
            ]
          },
          "metadata": {},
          "execution_count": 12
        }
      ]
    },
    {
      "cell_type": "markdown",
      "metadata": {
        "id": "06vNQDRJNzcg"
      },
      "source": [
        "##**Dot Product / Inner Product**\n",
        "\n",
        "If you recall the dot product from laboratory activity before, we will try to implement the same operation with matrices. In matrix dot product we are going to get the sum of products of the vectors by row-column pairs. So if we have two matrices $X$ and $Y$:\n",
        "\n",
        "$$x = \\begin{bmatrix} x_{(0,0)} & x_{(0,1)}\\\\x_{(1,0)} & x_{(1,1)}\\end{bmatrix} $$\n",
        "\n",
        "The dot product will then be computed as:\n",
        "\n",
        "$$x = \\begin{bmatrix} x_{(0,0)} {^*}  y_{(0,0)} + x_{(0,1)} {^*} y_{(1,0)} & x_{(0,0)} {^*} y_{(0,1)} + x_{(0,1)} {^*} y_{(1,1)}\\\\x_{(1,0)} {^*} y_{(0,0)} + x_{(1,1)} {^*} y_{(1,0)} & x_{(1,0)} {^*} y_{(0,1)} + x_{(1,1)} {^*} y_{(1,1)}\\end{bmatrix} $$\n",
        "\n",
        "So if we assign values to $X$ and $Y$:\n",
        "\n",
        "$$X = \\begin{bmatrix} 1 & 2\\\\0 & 1\\end{bmatrix}, X = \\begin{bmatrix} -1 & 02 & 2\\end{bmatrix} $$ \n",
        "\n",
        "$$X\\cdot Y = \\begin{bmatrix} 1 {^*} -1+2{^*}2 & 1{^*}0+2{^*}2\\\\0{^*} -1+1{^*}2 & 0{^*}0+1{^*}2\\end{bmatrix} = \\begin{bmatrix} 3 & 42 & 2\\end{bmatrix} $$ \n",
        "\n",
        "This could be achieved programmatically using np.dot(), np.matmul() or the @ operator."
      ]
    },
    {
      "cell_type": "code",
      "metadata": {
        "id": "EXL9b_RiN9no"
      },
      "source": [
        "X = np.array([\n",
        "    [1,2],\n",
        "    [0,1]\n",
        "])\n",
        "Y = np.array([\n",
        "    [-1,0],\n",
        "    [2,2]\n",
        "])"
      ],
      "execution_count": null,
      "outputs": []
    },
    {
      "cell_type": "code",
      "metadata": {
        "colab": {
          "base_uri": "https://localhost:8080/"
        },
        "id": "1Cy3V153OG55",
        "outputId": "ff5ea6a3-06a3-4755-adea-5c00b89c4b33"
      },
      "source": [
        "np.dot(X,Y)"
      ],
      "execution_count": null,
      "outputs": [
        {
          "output_type": "execute_result",
          "data": {
            "text/plain": [
              "array([[3, 4],\n",
              "       [2, 2]])"
            ]
          },
          "metadata": {},
          "execution_count": 14
        }
      ]
    },
    {
      "cell_type": "code",
      "metadata": {
        "colab": {
          "base_uri": "https://localhost:8080/"
        },
        "id": "MZsRk0iBOKSp",
        "outputId": "e6e3b300-3ad8-4699-ad54-a2829881618c"
      },
      "source": [
        "X.dot(Y)"
      ],
      "execution_count": null,
      "outputs": [
        {
          "output_type": "execute_result",
          "data": {
            "text/plain": [
              "array([[3, 4],\n",
              "       [2, 2]])"
            ]
          },
          "metadata": {},
          "execution_count": 15
        }
      ]
    },
    {
      "cell_type": "code",
      "metadata": {
        "colab": {
          "base_uri": "https://localhost:8080/"
        },
        "id": "RVxYicw4OPJb",
        "outputId": "753e71a8-1d78-4266-e6b3-9601066fc58a"
      },
      "source": [
        "X@Y"
      ],
      "execution_count": null,
      "outputs": [
        {
          "output_type": "execute_result",
          "data": {
            "text/plain": [
              "array([[3, 4],\n",
              "       [2, 2]])"
            ]
          },
          "metadata": {},
          "execution_count": 16
        }
      ]
    },
    {
      "cell_type": "code",
      "metadata": {
        "colab": {
          "base_uri": "https://localhost:8080/"
        },
        "id": "IYvyD1klORVh",
        "outputId": "da82aa2e-7e3d-4a9a-8459-fba043d78773"
      },
      "source": [
        "np.matmul(X,Y)"
      ],
      "execution_count": null,
      "outputs": [
        {
          "output_type": "execute_result",
          "data": {
            "text/plain": [
              "array([[3, 4],\n",
              "       [2, 2]])"
            ]
          },
          "metadata": {},
          "execution_count": 17
        }
      ]
    },
    {
      "cell_type": "code",
      "metadata": {
        "id": "CrlULhjcOXIS"
      },
      "source": [
        "M = np.array([\n",
        "    [1,2,5],\n",
        "    [0,1,3],\n",
        "    [3,5,8]\n",
        "])\n",
        "F = np.array([\n",
        "    [-1,-3,8],\n",
        "    [2,4,2],\n",
        "    [4,6,4]\n",
        "])"
      ],
      "execution_count": null,
      "outputs": []
    },
    {
      "cell_type": "code",
      "metadata": {
        "colab": {
          "base_uri": "https://localhost:8080/"
        },
        "id": "2QouxJxaOgr8",
        "outputId": "6d4a665c-b4de-4573-a69a-dd156a43d18f"
      },
      "source": [
        "np.dot(M,F)"
      ],
      "execution_count": null,
      "outputs": [
        {
          "output_type": "execute_result",
          "data": {
            "text/plain": [
              "array([[23, 35, 32],\n",
              "       [14, 22, 14],\n",
              "       [39, 59, 66]])"
            ]
          },
          "metadata": {},
          "execution_count": 19
        }
      ]
    },
    {
      "cell_type": "code",
      "metadata": {
        "colab": {
          "base_uri": "https://localhost:8080/"
        },
        "id": "UUX_7vzLO2rc",
        "outputId": "2fecbc43-e2e4-4587-b74f-78df79273bd9"
      },
      "source": [
        "M.dot(F)"
      ],
      "execution_count": null,
      "outputs": [
        {
          "output_type": "execute_result",
          "data": {
            "text/plain": [
              "array([[23, 35, 32],\n",
              "       [14, 22, 14],\n",
              "       [39, 59, 66]])"
            ]
          },
          "metadata": {},
          "execution_count": 20
        }
      ]
    },
    {
      "cell_type": "code",
      "metadata": {
        "colab": {
          "base_uri": "https://localhost:8080/"
        },
        "id": "nM-lCZgVO6dP",
        "outputId": "c7d5c33d-05f4-4b9e-a203-cbc1b1772562"
      },
      "source": [
        "M@F"
      ],
      "execution_count": null,
      "outputs": [
        {
          "output_type": "execute_result",
          "data": {
            "text/plain": [
              "array([[23, 35, 32],\n",
              "       [14, 22, 14],\n",
              "       [39, 59, 66]])"
            ]
          },
          "metadata": {},
          "execution_count": 21
        }
      ]
    },
    {
      "cell_type": "code",
      "metadata": {
        "colab": {
          "base_uri": "https://localhost:8080/"
        },
        "id": "MwxKIQgKO9g0",
        "outputId": "a31f3f98-ebc3-4207-f2c7-31a7bd911368"
      },
      "source": [
        "np.matmul(M,F)"
      ],
      "execution_count": null,
      "outputs": [
        {
          "output_type": "execute_result",
          "data": {
            "text/plain": [
              "array([[23, 35, 32],\n",
              "       [14, 22, 14],\n",
              "       [39, 59, 66]])"
            ]
          },
          "metadata": {},
          "execution_count": 22
        }
      ]
    },
    {
      "cell_type": "markdown",
      "metadata": {
        "id": "NFWRGN2VP7WM"
      },
      "source": [
        "In matrix dot products there are additional rules compared with vector dot products. Since vector dot products were just in one dimension there are less restrictions. Since now we are dealing with Rank 2 vectors we need to consider some rules:\n",
        "\n",
        "##**Rule 1: The inner dimensions of two matrices in question must be the same.**\n",
        "\n",
        "So given a matrix $A$ with a shape of $(a,b)$ where $a$ and $b$ are any integers. If we want to do a dot product between $A$ and another matrix $B$, then matrix $B$ should have a shape of $(b,c)$ where $b$ and $c$ are any integers. So for given the following matrices:\n",
        "\n",
        "$$A = \\begin{bmatrix} 2 & 4\\\\5 & -2\\\\ 0 & 1\\end{bmatrix}, B = \\begin{bmatrix} 1 & 1 & 3 & 3-1 & -2\\end{bmatrix}, C = \\begin{bmatrix} 0 & 1 & 1 & 1 & 1 & 2\\end{bmatrix}$$ \n",
        "\n",
        "So in this case $A$ has a shape of $(3,2)$, $B$ has a shape of $(3,2)$ and $C$ has a shape of $(2,3)$. So the only matrix pairs that is eligible to perform dot product is matrices $A \\cdot C$, or $B \\cdot C$."
      ]
    },
    {
      "cell_type": "code",
      "metadata": {
        "colab": {
          "base_uri": "https://localhost:8080/"
        },
        "id": "9E5z5rW0QZqg",
        "outputId": "61525fea-dcc6-402a-d7ff-2a9c7ba4cf90"
      },
      "source": [
        "A = np.array([\n",
        "    [2,4],\n",
        "    [5,-2],\n",
        "    [0,1]\n",
        "])\n",
        "B = np.array([\n",
        "    [1,1],\n",
        "    [3,3],\n",
        "    [-1,-2]\n",
        "])\n",
        "C = np.array([\n",
        "    [0,1,1],\n",
        "    [1,1,2]\n",
        "])\n",
        "print(A.shape)\n",
        "print(B.shape)\n",
        "print(C.shape)"
      ],
      "execution_count": null,
      "outputs": [
        {
          "output_type": "stream",
          "name": "stdout",
          "text": [
            "(3, 2)\n",
            "(3, 2)\n",
            "(2, 3)\n"
          ]
        }
      ]
    },
    {
      "cell_type": "code",
      "metadata": {
        "colab": {
          "base_uri": "https://localhost:8080/"
        },
        "id": "AajQQ6S8RF60",
        "outputId": "1bec39bd-b149-435f-8ca7-150d2a300487"
      },
      "source": [
        "A@C"
      ],
      "execution_count": null,
      "outputs": [
        {
          "output_type": "execute_result",
          "data": {
            "text/plain": [
              "array([[ 4,  6, 10],\n",
              "       [-2,  3,  1],\n",
              "       [ 1,  1,  2]])"
            ]
          },
          "metadata": {},
          "execution_count": 24
        }
      ]
    },
    {
      "cell_type": "code",
      "metadata": {
        "colab": {
          "base_uri": "https://localhost:8080/"
        },
        "id": "1eywp0jMRIoz",
        "outputId": "3eb39963-813a-40af-c662-7728627757f6"
      },
      "source": [
        "B@C"
      ],
      "execution_count": null,
      "outputs": [
        {
          "output_type": "execute_result",
          "data": {
            "text/plain": [
              "array([[ 1,  2,  3],\n",
              "       [ 3,  6,  9],\n",
              "       [-2, -3, -5]])"
            ]
          },
          "metadata": {},
          "execution_count": 25
        }
      ]
    },
    {
      "cell_type": "code",
      "metadata": {
        "id": "NS7cRwkVT1m6"
      },
      "source": [
        ""
      ],
      "execution_count": null,
      "outputs": []
    },
    {
      "cell_type": "markdown",
      "metadata": {
        "id": "jR_USaC-FsUV"
      },
      "source": [
        "If you would notice the shape of the dot product changed and its shape is not the same as any of the matrices we used. The shape of a dot product is actually derived from the shapes of the matrices used. So recall matrix $A$ with a shape of $(a,b)$ and matrix $B$ with a shape of $(b,c)$, $A \\cdot B$ should have a shape $(a,c)$."
      ]
    },
    {
      "cell_type": "code",
      "metadata": {
        "colab": {
          "base_uri": "https://localhost:8080/"
        },
        "id": "uvwgWC62Ry6h",
        "outputId": "d521aec6-4538-4077-e720-286c126d07a5"
      },
      "source": [
        "A@B.T"
      ],
      "execution_count": null,
      "outputs": [
        {
          "output_type": "execute_result",
          "data": {
            "text/plain": [
              "array([[  6,  18, -10],\n",
              "       [  3,   9,  -1],\n",
              "       [  1,   3,  -2]])"
            ]
          },
          "metadata": {},
          "execution_count": 26
        }
      ]
    },
    {
      "cell_type": "code",
      "metadata": {
        "colab": {
          "base_uri": "https://localhost:8080/"
        },
        "id": "Ax6DNKgZSA1E",
        "outputId": "f260dbf1-c33e-4b21-d42e-93b9615c50b9"
      },
      "source": [
        "X = np.array([\n",
        "    [1,2,3,0],\n",
        "])\n",
        "Y = np.array([\n",
        "    [1,0,4,-1],\n",
        "])\n",
        "print(X.shape)\n",
        "print(Y.shape)"
      ],
      "execution_count": null,
      "outputs": [
        {
          "output_type": "stream",
          "name": "stdout",
          "text": [
            "(1, 4)\n",
            "(1, 4)\n"
          ]
        }
      ]
    },
    {
      "cell_type": "code",
      "metadata": {
        "colab": {
          "base_uri": "https://localhost:8080/"
        },
        "id": "7aQ-g86SSRVC",
        "outputId": "ad8fc12d-dd40-4796-9f74-2a234389a81c"
      },
      "source": [
        "Y.T@X"
      ],
      "execution_count": null,
      "outputs": [
        {
          "output_type": "execute_result",
          "data": {
            "text/plain": [
              "array([[ 1,  2,  3,  0],\n",
              "       [ 0,  0,  0,  0],\n",
              "       [ 4,  8, 12,  0],\n",
              "       [-1, -2, -3,  0]])"
            ]
          },
          "metadata": {},
          "execution_count": 28
        }
      ]
    },
    {
      "cell_type": "code",
      "metadata": {
        "colab": {
          "base_uri": "https://localhost:8080/"
        },
        "id": "jHs6MNEdSUeG",
        "outputId": "3f352057-36ed-463e-fea1-8321eb532f46"
      },
      "source": [
        "X@Y.T"
      ],
      "execution_count": null,
      "outputs": [
        {
          "output_type": "execute_result",
          "data": {
            "text/plain": [
              "array([[13]])"
            ]
          },
          "metadata": {},
          "execution_count": 29
        }
      ]
    },
    {
      "cell_type": "markdown",
      "metadata": {
        "id": "227jzGrdF3N1"
      },
      "source": [
        "And you can see that when you try to multiply A and B, it returns ValueError pertaining to matrix shape mismatch."
      ]
    },
    {
      "cell_type": "markdown",
      "metadata": {
        "id": "YWXkKJT5SytK"
      },
      "source": [
        "##**Rule 2: Dot Product has special properties**\n",
        "\n",
        "Dot products are prevalent in matrix algebra, this implies that it has several unique properties and it should be considered when formulation solutions:\n",
        "\n",
        "1. $A \\cdot B \\neq B \\cdot A$\n",
        "2. $A \\cdot (B \\cdot C) = (A \\cdot B) \\cdot C$\n",
        "3. $A\\cdot(B+C) = A\\cdot B + A\\cdot C$\n",
        "4. $(B+C)\\cdot A = B\\cdot A + C\\cdot A$\n",
        "5. $A\\cdot I = A$\n",
        "6. $A\\cdot \\emptyset = \\emptyset$\n",
        "\n",
        "I'll be doing just one of the properties and I'll leave the rest to test your skills!"
      ]
    },
    {
      "cell_type": "code",
      "metadata": {
        "id": "nuoAe0K9SzP-"
      },
      "source": [
        "A = np.array([\n",
        "    [2,4,4],\n",
        "    [5,-2,2],\n",
        "    [0,1,1]\n",
        "])\n",
        "B = np.array([\n",
        "    [1,1,5],\n",
        "    [3,3,3],\n",
        "    [-1,-2,3]\n",
        "])\n",
        "C = np.array([\n",
        "    [0,1,1],\n",
        "    [1,1,2],\n",
        "    [4,2,6]\n",
        "])"
      ],
      "execution_count": null,
      "outputs": []
    },
    {
      "cell_type": "code",
      "metadata": {
        "colab": {
          "base_uri": "https://localhost:8080/"
        },
        "id": "BiaK_Gp5UTvk",
        "outputId": "a83eecab-06b5-4a01-8bb7-00dbe8574789"
      },
      "source": [
        "np.array_equiv(A@B, B@A)"
      ],
      "execution_count": null,
      "outputs": [
        {
          "output_type": "execute_result",
          "data": {
            "text/plain": [
              "False"
            ]
          },
          "metadata": {},
          "execution_count": 31
        }
      ]
    },
    {
      "cell_type": "code",
      "metadata": {
        "colab": {
          "base_uri": "https://localhost:8080/"
        },
        "id": "Z2XV8sObTRY5",
        "outputId": "bd6ab394-f1c1-40e1-fd6e-2c2000f05869"
      },
      "source": [
        "A@B"
      ],
      "execution_count": null,
      "outputs": [
        {
          "output_type": "execute_result",
          "data": {
            "text/plain": [
              "array([[10,  6, 34],\n",
              "       [-3, -5, 25],\n",
              "       [ 2,  1,  6]])"
            ]
          },
          "metadata": {},
          "execution_count": 32
        }
      ]
    },
    {
      "cell_type": "code",
      "metadata": {
        "colab": {
          "base_uri": "https://localhost:8080/"
        },
        "id": "gZuYUXJQTVtG",
        "outputId": "f98bed35-6ab1-4a0b-9bbc-2cea27f53bc6"
      },
      "source": [
        "B@A"
      ],
      "execution_count": null,
      "outputs": [
        {
          "output_type": "execute_result",
          "data": {
            "text/plain": [
              "array([[  7,   7,  11],\n",
              "       [ 21,   9,  21],\n",
              "       [-12,   3,  -5]])"
            ]
          },
          "metadata": {},
          "execution_count": 33
        }
      ]
    },
    {
      "cell_type": "code",
      "metadata": {
        "id": "yN6r_JB6Taan"
      },
      "source": [
        "M = A@(B@C)"
      ],
      "execution_count": null,
      "outputs": []
    },
    {
      "cell_type": "code",
      "metadata": {
        "id": "w_7PTeWCTfCW"
      },
      "source": [
        "R = (A@B)@C"
      ],
      "execution_count": null,
      "outputs": []
    },
    {
      "cell_type": "code",
      "metadata": {
        "colab": {
          "base_uri": "https://localhost:8080/"
        },
        "id": "n_UnVnopU2uO",
        "outputId": "0efecc80-7830-4d08-d155-edd0ee4e44a4"
      },
      "source": [
        "np.array_equal(M,R)"
      ],
      "execution_count": null,
      "outputs": [
        {
          "output_type": "execute_result",
          "data": {
            "text/plain": [
              "True"
            ]
          },
          "metadata": {},
          "execution_count": 36
        }
      ]
    },
    {
      "cell_type": "code",
      "metadata": {
        "id": "oogCRskPTjav"
      },
      "source": [
        "M = A@(B+C)"
      ],
      "execution_count": null,
      "outputs": []
    },
    {
      "cell_type": "code",
      "metadata": {
        "id": "fpTY2e_fToFo"
      },
      "source": [
        "R = A@B+A@C"
      ],
      "execution_count": null,
      "outputs": []
    },
    {
      "cell_type": "code",
      "metadata": {
        "colab": {
          "base_uri": "https://localhost:8080/"
        },
        "id": "RlCYk9mRVJx-",
        "outputId": "893b037b-b65f-4588-e15b-5475dcec0e61"
      },
      "source": [
        "np.array_equal(M,R)"
      ],
      "execution_count": null,
      "outputs": [
        {
          "output_type": "execute_result",
          "data": {
            "text/plain": [
              "True"
            ]
          },
          "metadata": {},
          "execution_count": 39
        }
      ]
    },
    {
      "cell_type": "code",
      "metadata": {
        "id": "Pw0vSOC4Tsif"
      },
      "source": [
        "M = (B+C)@A"
      ],
      "execution_count": null,
      "outputs": []
    },
    {
      "cell_type": "code",
      "metadata": {
        "id": "8M2vKU4PTw0m"
      },
      "source": [
        "R = B@A+C@A"
      ],
      "execution_count": null,
      "outputs": []
    },
    {
      "cell_type": "code",
      "metadata": {
        "colab": {
          "base_uri": "https://localhost:8080/"
        },
        "id": "bTModsk-VP02",
        "outputId": "f016295c-9afa-418a-e05b-a40624f2be2c"
      },
      "source": [
        "np.array_equal(M,R)"
      ],
      "execution_count": null,
      "outputs": [
        {
          "output_type": "execute_result",
          "data": {
            "text/plain": [
              "True"
            ]
          },
          "metadata": {},
          "execution_count": 42
        }
      ]
    },
    {
      "cell_type": "code",
      "metadata": {
        "colab": {
          "base_uri": "https://localhost:8080/"
        },
        "id": "4JQv5zD4Ynx4",
        "outputId": "153997cd-cfd1-4636-f62a-8f9c69d7e9d7"
      },
      "source": [
        "np.eye(3)"
      ],
      "execution_count": null,
      "outputs": [
        {
          "output_type": "execute_result",
          "data": {
            "text/plain": [
              "array([[1., 0., 0.],\n",
              "       [0., 1., 0.],\n",
              "       [0., 0., 1.]])"
            ]
          },
          "metadata": {},
          "execution_count": 43
        }
      ]
    },
    {
      "cell_type": "code",
      "metadata": {
        "colab": {
          "base_uri": "https://localhost:8080/"
        },
        "id": "LfhBu_ZkY1H4",
        "outputId": "4bc6ab2d-1d9d-41f3-de52-9d20abd98830"
      },
      "source": [
        "A.dot(np.eye(3))"
      ],
      "execution_count": null,
      "outputs": [
        {
          "output_type": "execute_result",
          "data": {
            "text/plain": [
              "array([[ 2.,  4.,  4.],\n",
              "       [ 5., -2.,  2.],\n",
              "       [ 0.,  1.,  1.]])"
            ]
          },
          "metadata": {},
          "execution_count": 44
        }
      ]
    },
    {
      "cell_type": "code",
      "metadata": {
        "colab": {
          "base_uri": "https://localhost:8080/"
        },
        "id": "-wDv7VlFVUO-",
        "outputId": "9f3f44bd-0695-45e4-c5f5-7d05cf12e50d"
      },
      "source": [
        "A.dot(np.identity(3))"
      ],
      "execution_count": null,
      "outputs": [
        {
          "output_type": "execute_result",
          "data": {
            "text/plain": [
              "array([[ 2.,  4.,  4.],\n",
              "       [ 5., -2.,  2.],\n",
              "       [ 0.,  1.,  1.]])"
            ]
          },
          "metadata": {},
          "execution_count": 45
        }
      ]
    },
    {
      "cell_type": "code",
      "metadata": {
        "colab": {
          "base_uri": "https://localhost:8080/"
        },
        "id": "w7jz0FzEWU-q",
        "outputId": "d846d272-06bc-45c6-8dc3-768e5ea48508"
      },
      "source": [
        "A.dot(np.zeros(3))"
      ],
      "execution_count": null,
      "outputs": [
        {
          "output_type": "execute_result",
          "data": {
            "text/plain": [
              "array([0., 0., 0.])"
            ]
          },
          "metadata": {},
          "execution_count": 46
        }
      ]
    },
    {
      "cell_type": "markdown",
      "metadata": {
        "id": "vEvo8UvsZAYJ"
      },
      "source": [
        "##**Determinant**\n",
        "\n",
        "A determinant is a scalar value derived from a square matrix. The determinant is a fundamental and important value used in matrix algebra. Although it will not be evident in this laboratory on how it can be used practically, but it will be greatly used in future lessons.\n",
        "\n",
        "The determinant of some matrix $A$ is denoted as $det(A)$ or $|A|$. So let's say $A$ is represented as:\n",
        "\n",
        "$$A = \\begin{bmatrix} a_{(0,0)} & a_{(0,1)}\\\\a_{(1,0)} & a_{(1,1)}\\end{bmatrix}$$\n",
        "\n",
        "We can compute for the determinant as:\n",
        "\n",
        "$$|A| = a_{(0,0)}*a_{(1,1)} - a_{(1,0)}*a_{(0,1)}$$\n",
        "\n",
        "So if we have $A$ as:\n",
        "\n",
        "$$A = \\begin{bmatrix}1&amp;4\\\\0&amp;3\\end{bmatrix}, |A| = 3$$\n",
        "\n",
        "But you might wonder how about square matrices beyond the shape $(2,2)$? We can approach this problem by using several methods such as co-factor expansion and the minors method. This can be taught in the lecture of the laboratory but we can achieve the strenuous computation of high-dimensional matrices programmatically using Python. We can achieve this by using np.linalg.det()."
      ]
    },
    {
      "cell_type": "code",
      "metadata": {
        "colab": {
          "base_uri": "https://localhost:8080/"
        },
        "id": "-fsxwofMY_tZ",
        "outputId": "378f1bed-d964-48d2-ecc0-e18e60c1fc4b"
      },
      "source": [
        "A = np.array([\n",
        "    [1,4],\n",
        "    [0,3]\n",
        "])\n",
        "np.linalg.det(A)"
      ],
      "execution_count": null,
      "outputs": [
        {
          "output_type": "execute_result",
          "data": {
            "text/plain": [
              "3.0000000000000004"
            ]
          },
          "metadata": {},
          "execution_count": 47
        }
      ]
    },
    {
      "cell_type": "code",
      "metadata": {
        "colab": {
          "base_uri": "https://localhost:8080/"
        },
        "id": "dq35MTshZV3L",
        "outputId": "7c244151-8aa5-4bf2-aa24-3d1e6bceb01a"
      },
      "source": [
        "B = np.array([\n",
        "    [1,5,2],\n",
        "    [3,-1,-1],\n",
        "    [0,-2,1]\n",
        "])\n",
        "np.linalg.det(B)"
      ],
      "execution_count": null,
      "outputs": [
        {
          "output_type": "execute_result",
          "data": {
            "text/plain": [
              "-30.000000000000014"
            ]
          },
          "metadata": {},
          "execution_count": 48
        }
      ]
    },
    {
      "cell_type": "code",
      "metadata": {
        "id": "eHMAJfdkZzwl",
        "colab": {
          "base_uri": "https://localhost:8080/"
        },
        "outputId": "7d999aa5-7882-48f6-fb09-df96128a0653"
      },
      "source": [
        "## Now other mathematics classes would require you to solve this by hand, \n",
        "## and that is great for practicing your memorization and coordination skills \n",
        "## but in this class we aim for simplicity and speed so we'll use programming\n",
        "## but it's completely fine if you want to try to solve this one by hand.\n",
        "B = np.array([\n",
        "    [1,3,5,6],\n",
        "    [0,3,1,3],\n",
        "    [3,1,8,2],\n",
        "    [5,2,6,8]\n",
        "])\n",
        "np.linalg.det(B)"
      ],
      "execution_count": null,
      "outputs": [
        {
          "output_type": "execute_result",
          "data": {
            "text/plain": [
              "-235.0000000000002"
            ]
          },
          "metadata": {},
          "execution_count": 49
        }
      ]
    },
    {
      "cell_type": "markdown",
      "metadata": {
        "id": "6ItV-LWyaIvR"
      },
      "source": [
        "##**Inverse**\n",
        "\n",
        "The inverse of a matrix is another fundamental operation in matrix algebra. Determining the inverse of a matrix let us determine if its solvability and its characteristic as a system of linear equation — we'll expand on this in the next module. Another use of the inverse matrix is solving the problem of divisibility between matrices. Although element-wise division exists but dividing the entire concept of matrices does not exists. Inverse matrices provides a related operation that could have the same concept of \"dividing\" matrices.\n",
        "\n",
        "Now to determine the inverse of a matrix we need to perform several steps. So let's say we have a matrix $M$:\n",
        "\n",
        "$$M = \\begin{bmatrix}1&amp;7\\\\-3&amp;5\\end{bmatrix}$$\n",
        "\n",
        "First, we need to get the determinant of $M$.\n",
        "\n",
        "$$|M| = (1)(5)-(-3)(7) = 26$$\n",
        "\n",
        "Next, we need to reform the matrix into the inverse form:\n",
        "\n",
        "$$M^{-1} = \\frac{1}{|M|} \\begin{bmatrix} m_{(1,1)} &amp; -m_{(0,1)} \\\\ -m_{(1,0)} &amp; m_{(0,0)}\\end{bmatrix}$$\n",
        "\n",
        "So that will be:\n",
        "\n",
        "$$M^{-1} = \\frac{1}{26} \\begin{bmatrix} 5 & -7 \\\\ 3 & 1\\end{bmatrix} = \\begin{bmatrix} \\frac{5}{26} & \\frac{-7}{26} \\frac{3}{26} & \\frac{1}{26}\\end{bmatrix}$$\n",
        "\n",
        "For higher-dimension matrices you might need to use co-factors, minors, adjugates, and other reduction techinques. To solve this programmatially we can use np.linalg.inv()."
      ]
    },
    {
      "cell_type": "code",
      "metadata": {
        "colab": {
          "base_uri": "https://localhost:8080/"
        },
        "id": "8V1NcRIaaGS7",
        "outputId": "79437851-b96a-4114-f740-c48b856467b5"
      },
      "source": [
        "M = np.array([\n",
        "    [1,7],\n",
        "    [-3,5]\n",
        "])\n",
        "np.array(M@np.linalg.inv(M), dtype=int)"
      ],
      "execution_count": null,
      "outputs": [
        {
          "output_type": "execute_result",
          "data": {
            "text/plain": [
              "array([[1, 0],\n",
              "       [0, 1]])"
            ]
          },
          "metadata": {},
          "execution_count": 50
        }
      ]
    },
    {
      "cell_type": "code",
      "metadata": {
        "colab": {
          "base_uri": "https://localhost:8080/"
        },
        "id": "h9hEKwZ_aswb",
        "outputId": "7b40a7f0-781a-48c0-aa18-e2fbc4b55949"
      },
      "source": [
        "P = np.array([\n",
        "    [6,9,0],\n",
        "    [4,2,-1],\n",
        "    [3,6,7]\n",
        "])\n",
        "Q = np.linalg.inv(P)\n",
        "Q"
      ],
      "execution_count": null,
      "outputs": [
        {
          "output_type": "execute_result",
          "data": {
            "text/plain": [
              "array([[-0.12578616,  0.39622642,  0.05660377],\n",
              "       [ 0.19496855, -0.26415094, -0.03773585],\n",
              "       [-0.11320755,  0.05660377,  0.1509434 ]])"
            ]
          },
          "metadata": {},
          "execution_count": 51
        }
      ]
    },
    {
      "cell_type": "code",
      "metadata": {
        "colab": {
          "base_uri": "https://localhost:8080/"
        },
        "id": "kxfg6_-YbkU4",
        "outputId": "11e25cc1-646a-4a9c-8a34-b5b14debb108"
      },
      "source": [
        "np.array(P@Q)"
      ],
      "execution_count": null,
      "outputs": [
        {
          "output_type": "execute_result",
          "data": {
            "text/plain": [
              "array([[ 1.00000000e+00, -5.55111512e-17, -6.93889390e-18],\n",
              "       [ 8.32667268e-17,  1.00000000e+00, -2.77555756e-17],\n",
              "       [ 2.77555756e-17, -1.38777878e-17,  1.00000000e+00]])"
            ]
          },
          "metadata": {},
          "execution_count": 52
        }
      ]
    },
    {
      "cell_type": "code",
      "metadata": {
        "colab": {
          "base_uri": "https://localhost:8080/"
        },
        "id": "FK7PG9zda9H7",
        "outputId": "11c83ab8-02f2-45b7-e29d-65b4b46f2e0a"
      },
      "source": [
        "np.array(P@Q, dtype=int)"
      ],
      "execution_count": null,
      "outputs": [
        {
          "output_type": "execute_result",
          "data": {
            "text/plain": [
              "array([[1, 0, 0],\n",
              "       [0, 0, 0],\n",
              "       [0, 0, 1]])"
            ]
          },
          "metadata": {},
          "execution_count": 53
        }
      ]
    },
    {
      "cell_type": "code",
      "metadata": {
        "id": "JAuxYwzYbQcL"
      },
      "source": [
        "R = np.array([\n",
        "    [5,3,1],\n",
        "    [6,1,-6],\n",
        "    [1,3,8]\n",
        "])\n",
        "Q = np.linalg.inv(R)"
      ],
      "execution_count": null,
      "outputs": []
    },
    {
      "cell_type": "code",
      "metadata": {
        "colab": {
          "base_uri": "https://localhost:8080/"
        },
        "id": "Uz2GlgzfbuDb",
        "outputId": "1421861a-dd25-4a99-cd13-fc3b27ec6636"
      },
      "source": [
        "np.array(R@Q)"
      ],
      "execution_count": null,
      "outputs": [
        {
          "output_type": "execute_result",
          "data": {
            "text/plain": [
              "array([[ 1.00000000e+00, -1.99840144e-15,  9.99200722e-16],\n",
              "       [ 0.00000000e+00,  1.00000000e+00,  2.22044605e-16],\n",
              "       [ 0.00000000e+00,  0.00000000e+00,  1.00000000e+00]])"
            ]
          },
          "metadata": {},
          "execution_count": 55
        }
      ]
    },
    {
      "cell_type": "code",
      "metadata": {
        "colab": {
          "base_uri": "https://localhost:8080/"
        },
        "id": "D9arTXOMbXUb",
        "outputId": "4c7069b4-2c97-4376-cd18-da7a67777992"
      },
      "source": [
        "np.array(R@Q, dtype=int)"
      ],
      "execution_count": null,
      "outputs": [
        {
          "output_type": "execute_result",
          "data": {
            "text/plain": [
              "array([[0, 0, 0],\n",
              "       [0, 0, 0],\n",
              "       [0, 0, 1]])"
            ]
          },
          "metadata": {},
          "execution_count": 56
        }
      ]
    },
    {
      "cell_type": "code",
      "metadata": {
        "id": "q7UA7fj7b1P3",
        "colab": {
          "base_uri": "https://localhost:8080/"
        },
        "outputId": "d358e6c1-4426-4100-dca7-c8c6a49cd111"
      },
      "source": [
        "## And now let's test your skills in solving a matrix with high dimensions:\n",
        "N = np.array([\n",
        "    [18,5,23,1,0,33,5],\n",
        "    [0,45,0,11,2,4,2],\n",
        "    [5,9,20,0,0,0,3],\n",
        "    [1,6,4,4,8,43,1],\n",
        "    [8,6,8,7,1,6,1],\n",
        "    [-5,15,2,0,0,6,-30],\n",
        "    [-2,-5,1,2,1,20,12],\n",
        "])\n",
        "N_inv = np.linalg.inv(N)\n",
        "np.array(N @ N_inv,dtype=int)"
      ],
      "execution_count": null,
      "outputs": [
        {
          "output_type": "execute_result",
          "data": {
            "text/plain": [
              "array([[0, 0, 0, 0, 0, 0, 0],\n",
              "       [0, 0, 0, 0, 0, 0, 0],\n",
              "       [0, 0, 1, 0, 0, 0, 0],\n",
              "       [0, 0, 0, 1, 0, 0, 0],\n",
              "       [0, 0, 0, 0, 0, 0, 0],\n",
              "       [0, 0, 0, 0, 0, 0, 0],\n",
              "       [0, 0, 0, 0, 0, 0, 1]])"
            ]
          },
          "metadata": {},
          "execution_count": 57
        }
      ]
    },
    {
      "cell_type": "markdown",
      "metadata": {
        "id": "ySyu3S1sbz5C"
      },
      "source": [
        "To validate the wether if the matric that you have solved is really the inverse, we follow this dot product property for a matrix $M$:\n",
        "\n",
        "$$M\\cdot M^{-1} = I$$"
      ]
    },
    {
      "cell_type": "code",
      "metadata": {
        "id": "rH5MIf-IcEpQ",
        "colab": {
          "base_uri": "https://localhost:8080/"
        },
        "outputId": "dc5879af-60be-4b7a-d505-3e6ad44531f5"
      },
      "source": [
        "squad = np.array([\n",
        "    [1.0, 1.0, 0.5],\n",
        "    [0.7, 0.7, 0.9],\n",
        "    [0.3, 0.3, 1.0]\n",
        "])\n",
        "weights = np.array([\n",
        "    [0.2, 0.2, 0.6]\n",
        "])\n",
        "p_grade = squad @ weights.T\n",
        "p_grade"
      ],
      "execution_count": null,
      "outputs": [
        {
          "output_type": "execute_result",
          "data": {
            "text/plain": [
              "array([[0.7 ],\n",
              "       [0.82],\n",
              "       [0.72]])"
            ]
          },
          "metadata": {},
          "execution_count": 58
        }
      ]
    },
    {
      "cell_type": "markdown",
      "metadata": {
        "id": "1naSH4WIcAco"
      },
      "source": [
        "##**Activity**\n",
        "\n",
        "####**Task 1**\n",
        "\n",
        "Prove and implement the remaining 6 matrix multiplication properties. You may create your own matrices in which their shapes should not be lower than $(3,3)$. In your methodology, create individual flowcharts for each property and discuss the property you would then present your proofs or validity of your implementation in the results section by comparing your result to present functions from NumPy.\n",
        "\n",
        "1. $A \\cdot B \\neq B \\cdot A$\n",
        "2. $A \\cdot (B \\cdot C) = (A \\cdot B) \\cdot C$\n",
        "3. $A\\cdot(B+C) = A\\cdot B + A\\cdot C$\n",
        "4. $(B+C)\\cdot A = B\\cdot A + C\\cdot A$\n",
        "5. $A\\cdot I = A$\n",
        "6. $A\\cdot \\emptyset = \\emptyset$\n"
      ]
    },
    {
      "cell_type": "code",
      "metadata": {
        "id": "4z89SA99cAGf"
      },
      "source": [
        "A = np.array([\n",
        "    [5,6,1,8],\n",
        "    [6,-3,2,2],\n",
        "    [-5,-2,6,-1],\n",
        "    [1,3,5,2]\n",
        "])\n",
        "B = np.array([\n",
        "    [4,7,0,0],\n",
        "    [9,2,1,5],\n",
        "    [-4,-4,3,2],\n",
        "    [1,2,3,4]\n",
        "])\n",
        "C = np.array([\n",
        "    [7,4,3,3],\n",
        "    [3,2,8,8],\n",
        "    [0,5,9,6],\n",
        "    [5,3,6,8]\n",
        "])"
      ],
      "execution_count": null,
      "outputs": []
    },
    {
      "cell_type": "code",
      "metadata": {
        "colab": {
          "base_uri": "https://localhost:8080/"
        },
        "id": "IuhDiJjmc3DC",
        "outputId": "dc92c1af-80e7-4a32-b5eb-61f16cfab8ad"
      },
      "source": [
        "#1. 𝐴⋅𝐵≠𝐵⋅𝐴\n",
        "\n",
        "np.array_equiv(A@B, B@A)"
      ],
      "execution_count": null,
      "outputs": [
        {
          "output_type": "execute_result",
          "data": {
            "text/plain": [
              "False"
            ]
          },
          "metadata": {},
          "execution_count": 60
        }
      ]
    },
    {
      "cell_type": "markdown",
      "metadata": {
        "id": "wpJkiAo2nQAm"
      },
      "source": [
        "![1.png](data:image/png;base64,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)"
      ]
    },
    {
      "cell_type": "code",
      "metadata": {
        "colab": {
          "base_uri": "https://localhost:8080/"
        },
        "id": "IS0Ayt87dBVe",
        "outputId": "7508e8d2-31d3-4462-c6ce-0dfd232039a0"
      },
      "source": [
        "#2. 𝐴⋅(𝐵⋅𝐶)=(𝐴⋅𝐵)⋅𝐶\n",
        "\n",
        "M = A@(B@C)\n",
        "R = (A@B)@C\n",
        "np.array_equal(M,R)\n"
      ],
      "execution_count": null,
      "outputs": [
        {
          "output_type": "execute_result",
          "data": {
            "text/plain": [
              "True"
            ]
          },
          "metadata": {},
          "execution_count": 61
        }
      ]
    },
    {
      "cell_type": "markdown",
      "metadata": {
        "id": "BeKYTzCYnS27"
      },
      "source": [
        "![2.png](data:image/png;base64,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)"
      ]
    },
    {
      "cell_type": "code",
      "metadata": {
        "colab": {
          "base_uri": "https://localhost:8080/"
        },
        "id": "Em67eKrzdZ5i",
        "outputId": "29060922-64e6-4863-95ae-e4e3dae0f389"
      },
      "source": [
        "#3. 𝐴⋅(𝐵+𝐶)=𝐴⋅𝐵+𝐴⋅𝐶\n",
        "\n",
        "M = A@(B+C)\n",
        "R = A@B+A@C\n",
        "np.array_equal(M,R)"
      ],
      "execution_count": null,
      "outputs": [
        {
          "output_type": "execute_result",
          "data": {
            "text/plain": [
              "True"
            ]
          },
          "metadata": {},
          "execution_count": 62
        }
      ]
    },
    {
      "cell_type": "markdown",
      "metadata": {
        "id": "LrD7uNf2nWD8"
      },
      "source": [
        "![3.png](data:image/png;base64,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)"
      ]
    },
    {
      "cell_type": "code",
      "metadata": {
        "colab": {
          "base_uri": "https://localhost:8080/"
        },
        "id": "GKkVu-r7dvps",
        "outputId": "c527fe6f-1429-4e9f-ba63-f61948902f20"
      },
      "source": [
        "#4. (𝐵+𝐶)⋅𝐴=𝐵⋅𝐴+𝐶⋅𝐴\n",
        "\n",
        "M = (B+C)@A\n",
        "R = B@A+C@A\n",
        "np.array_equal(M,R)"
      ],
      "execution_count": null,
      "outputs": [
        {
          "output_type": "execute_result",
          "data": {
            "text/plain": [
              "True"
            ]
          },
          "metadata": {},
          "execution_count": 63
        }
      ]
    },
    {
      "cell_type": "markdown",
      "metadata": {
        "id": "L9wRglMvnYcp"
      },
      "source": [
        "![4.png](data:image/png;base64,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)"
      ]
    },
    {
      "cell_type": "code",
      "metadata": {
        "colab": {
          "base_uri": "https://localhost:8080/"
        },
        "id": "2GJOiCFSeBC7",
        "outputId": "d036a3d7-0da3-4657-8a5a-9767b54358a7"
      },
      "source": [
        "#5. 𝐴⋅𝐼=𝐴\n",
        "\n",
        "np.eye(4)"
      ],
      "execution_count": null,
      "outputs": [
        {
          "output_type": "execute_result",
          "data": {
            "text/plain": [
              "array([[1., 0., 0., 0.],\n",
              "       [0., 1., 0., 0.],\n",
              "       [0., 0., 1., 0.],\n",
              "       [0., 0., 0., 1.]])"
            ]
          },
          "metadata": {},
          "execution_count": 69
        }
      ]
    },
    {
      "cell_type": "markdown",
      "metadata": {
        "id": "CKO9YYlBnapb"
      },
      "source": [
        "![5.png](data:image/png;base64,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)"
      ]
    },
    {
      "cell_type": "code",
      "metadata": {
        "colab": {
          "base_uri": "https://localhost:8080/"
        },
        "id": "Z0_gg2ipeIuE",
        "outputId": "db966387-5d45-4400-8485-9744065629b4"
      },
      "source": [
        "#6. 𝐴⋅∅=∅\n",
        "\n",
        "A.dot(np.zeros(4))"
      ],
      "execution_count": null,
      "outputs": [
        {
          "output_type": "execute_result",
          "data": {
            "text/plain": [
              "array([0., 0., 0., 0.])"
            ]
          },
          "metadata": {},
          "execution_count": 68
        }
      ]
    },
    {
      "cell_type": "markdown",
      "metadata": {
        "id": "OUF0bGvinc82"
      },
      "source": [
        "![6.png](data:image/png;base64,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)"
      ]
    },
    {
      "cell_type": "markdown",
      "metadata": {
        "id": "F9KaXk1Occz8"
      },
      "source": [
        "##**Conclusion**\n",
        "\n",
        "Matrices is one of the most useful operations and applied in the  electronic field such as the electrical circuits, quantum mechanics, and optics. Matrices are used in solving multiple linear system, battery power outputs that are focus in our field. Learning the mechanisms of the matrices would greatly help us to lessen the computation time and it gives such accurate results. In addition, it should be reminded that encoding of values and element is crucial in obtaining accurate results that's why thorough encoding must be done. Lastly, I realized and learned that matrices play a bigger role in the computation process. "
      ]
    }
  ]
}